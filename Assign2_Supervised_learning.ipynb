{
 "cells": [
  {
   "cell_type": "markdown",
   "id": "9f369f0a",
   "metadata": {},
   "source": [
    "\n",
    "# Assignments #2 Supervised Learning  "
   ]
  },
  {
   "cell_type": "code",
   "execution_count": 164,
   "id": "56e82866",
   "metadata": {},
   "outputs": [
    {
     "name": "stdout",
     "output_type": "stream",
     "text": [
      "All Done!\n"
     ]
    }
   ],
   "source": [
    "# ---- (Run this first) ----\n",
    "# import libraries\n",
    "#from sklearn.model_selection import train_test_split\n",
    "#from sklearn.metrics import confusion_matrix, ConfusionMatrixDisplay, mean_absolute_error, mean_squared_error, r2_score\n",
    "#rom sklearn.neural_network import MLPClassifier\n",
    "#from sklearn.linear_model import Perceptron, LinearRegression\n",
    "#from sklearn import datasets\n",
    "#from sklearn.neighbors import NearestNeighbors\n",
    "\n",
    "# letting plots appear inline\n",
    "%matplotlib inline\n",
    "\n",
    "print(\"All Done!\")\n"
   ]
  },
  {
   "cell_type": "markdown",
   "id": "3d3a002f",
   "metadata": {},
   "source": [
    "\n",
    "## Task 1 Theory questions\n",
    "\n",
    "Answer **in text** below each question. (1-3 lines per answer)\n",
    "\n",
    "#### 1. What is **supervised learning**? \n",
    "\n",
    "* Supervised learning uses a dataset with a `target`-column.\n",
    "* A dataset with a `target`-column is considered \"labeled\" data.\n",
    "* The `target`-column is the expected output.\n",
    "* The other columns are called `features`.\n",
    "* Given the `features` as input, the model is expected to produce the `target` as output.\n",
    "\n",
    "#### 2. Define **classification**. Give one example.\n",
    "\n",
    "* Classification is the method of grouping together data into distinct groups.\n",
    "* An example of classification is to group players in a role-playing game like: \n",
    "    - \"How often do they login?\" Options: [\"Daily\", \"Weekly\", \"Monthly\"].\n",
    "    - \"Did they spend money?\" Options: [\"Yes\", \"No\"] (binary classification)\n",
    "\n",
    "#### 3. Define **regression**. Give one example.\n",
    "\n",
    "* Regression is the method of approximating the function which gives the best fit to given data.\n",
    "* An example of regression is using a linear function v = ax + b to approximate the relationship between input voltage and output temperature in a thermometer.\n",
    "\n",
    "#### 4. Compare the **difference** between classification and regression?\n",
    "\n",
    "* A classification-function gives categorical output. Example: [\"Male\", \"Female\"], [\"Yes\", \"No\"], etc.\n",
    "* A regression-function gives a numerical output (continuous/floating point or discrete/integer value) over some kind of range. Examples: age in [0-99], temperature in [0, 273], change in [0, 1.0].\n",
    "\n",
    "#### 5. What is a **confusion matrix** used for and how does it help evaluate the performance of a classification model?\n",
    "\n",
    "The confusion matrix shows clearly where the model is correct or where it misclassifies. A perfect model gets a full score, only with values in the diagonal cells and the rest of cells have zero-values. Where the model makes mistakes will be counted in each cell.\n",
    "\n",
    "<div align=\"center\"><img src=\"./images/confusion-matrix.png\" width=300></div>\n",
    "\n",
    "<p align=\"center\"><i>Figure: Confusion matrix shows model predicted wrongly `versicolor` 2 times, when it should have predicted the target: `virginica`.</i></p>\n",
    "\n",
    "#### 6. Why do we **preprocess** data before training? Name **two** techniques.\n",
    "\n",
    "* Binarization - converts binary values to 0 or 1\n",
    "* Mean removal / subtraction - shifts the data by subtracting the mean, and the mean now becomes 0.\n",
    "* Scaling - Adjusts the data to a specific range, for example normalization to the range [0, 1.0]."
   ]
  },
  {
   "cell_type": "markdown",
   "id": "6497428b",
   "metadata": {},
   "source": [
    "\n",
    "## Task 2 Preprocessing & Label Encoding\n",
    "\n",
    "In this task, you are going to practice: scaling, normalization, and label encoding.\n",
    "\n",
    "Here are the sub-tasks:\n",
    "\n",
    "0. Create a small numeric dataset (already provided).\n",
    "1. Apply **StandardScaler** and **MinMaxScaler**. Compare.\n",
    "2. Apply **Normalizer**. Compare.\n",
    "3. Encode simple text labels to numbers with **LabelEncoder**.\n",
    "4. Answer two questions. \n",
    "\n",
    "(HINT: Print small tables. Plot simple histograms to see changes.)\n"
   ]
  },
  {
   "cell_type": "code",
   "execution_count": 165,
   "id": "cb4299b1",
   "metadata": {},
   "outputs": [
    {
     "name": "stdout",
     "output_type": "stream",
     "text": [
      "Original data:\n"
     ]
    },
    {
     "data": {
      "text/html": [
       "<div>\n",
       "<style scoped>\n",
       "    .dataframe tbody tr th:only-of-type {\n",
       "        vertical-align: middle;\n",
       "    }\n",
       "\n",
       "    .dataframe tbody tr th {\n",
       "        vertical-align: top;\n",
       "    }\n",
       "\n",
       "    .dataframe thead th {\n",
       "        text-align: right;\n",
       "    }\n",
       "</style>\n",
       "<table border=\"1\" class=\"dataframe\">\n",
       "  <thead>\n",
       "    <tr style=\"text-align: right;\">\n",
       "      <th></th>\n",
       "      <th>feat1</th>\n",
       "      <th>feat2</th>\n",
       "    </tr>\n",
       "  </thead>\n",
       "  <tbody>\n",
       "    <tr>\n",
       "      <th>0</th>\n",
       "      <td>1.0</td>\n",
       "      <td>10.0</td>\n",
       "    </tr>\n",
       "    <tr>\n",
       "      <th>1</th>\n",
       "      <td>2.0</td>\n",
       "      <td>20.0</td>\n",
       "    </tr>\n",
       "    <tr>\n",
       "      <th>2</th>\n",
       "      <td>3.0</td>\n",
       "      <td>30.0</td>\n",
       "    </tr>\n",
       "    <tr>\n",
       "      <th>3</th>\n",
       "      <td>4.0</td>\n",
       "      <td>40.0</td>\n",
       "    </tr>\n",
       "    <tr>\n",
       "      <th>4</th>\n",
       "      <td>5.0</td>\n",
       "      <td>50.0</td>\n",
       "    </tr>\n",
       "  </tbody>\n",
       "</table>\n",
       "</div>"
      ],
      "text/plain": [
       "   feat1  feat2\n",
       "0    1.0   10.0\n",
       "1    2.0   20.0\n",
       "2    3.0   30.0\n",
       "3    4.0   40.0\n",
       "4    5.0   50.0"
      ]
     },
     "metadata": {},
     "output_type": "display_data"
    }
   ],
   "source": [
    "import numpy as np\n",
    "from pandas import DataFrame\n",
    "\n",
    "# --- Task 2.0 Use the provided small dataset below for the following tasks:\n",
    "X = np.array([[1, 10],\n",
    "              [2, 20],\n",
    "              [3, 30],\n",
    "              [4, 40],\n",
    "              [5, 50]], dtype=float)\n",
    "\n",
    "data = DataFrame(X, columns=[\"feat1\",\"feat2\"])\n",
    "print(\"Original data:\")\n",
    "display(data)\n"
   ]
  },
  {
   "cell_type": "markdown",
   "id": "4d77dfa0",
   "metadata": {},
   "source": [
    "#### Task 2.1 StandardScaler\n",
    "\n",
    "\n",
    "For every feature (column) the `StandardScaler` computes:\n",
    "\n",
    "$$\n",
    "z = \\frac{x - \\mu}{\\sigma}\n",
    "$$\n",
    "\n",
    "where 𝜇 is the average and 𝜎 is the standard deviation."
   ]
  },
  {
   "cell_type": "code",
   "execution_count": 166,
   "id": "a03a5962",
   "metadata": {},
   "outputs": [
    {
     "data": {
      "text/plain": [
       "array([[-1.41421356, -1.41421356],\n",
       "       [-0.70710678, -0.70710678],\n",
       "       [ 0.        ,  0.        ],\n",
       "       [ 0.70710678,  0.70710678],\n",
       "       [ 1.41421356,  1.41421356]])"
      ]
     },
     "execution_count": 166,
     "metadata": {},
     "output_type": "execute_result"
    }
   ],
   "source": [
    "\n",
    "from sklearn.preprocessing import StandardScaler\n",
    "\n",
    "standard = DataFrame(data)\n",
    "standard = StandardScaler().fit_transform(data)\n",
    "\n",
    "standard"
   ]
  },
  {
   "cell_type": "markdown",
   "id": "7cc5caa1",
   "metadata": {},
   "source": [
    "#### Task 2.1 MinMaxScaler\n",
    "\n",
    "For every feature (column) the `MinMaxScaler` computes:\n",
    "$$\n",
    "x' = \\frac{x - x_{\\min}}{x_{\\max} - x_{\\min}}\n",
    "$$\n",
    "\n",
    "where *x_min* is the lowest value in and column and *x_max* is the highest."
   ]
  },
  {
   "cell_type": "code",
   "execution_count": 167,
   "id": "9c629bc4",
   "metadata": {},
   "outputs": [
    {
     "data": {
      "text/plain": [
       "array([[0.  , 0.  ],\n",
       "       [0.25, 0.25],\n",
       "       [0.5 , 0.5 ],\n",
       "       [0.75, 0.75],\n",
       "       [1.  , 1.  ]])"
      ]
     },
     "execution_count": 167,
     "metadata": {},
     "output_type": "execute_result"
    }
   ],
   "source": [
    "from sklearn.preprocessing import MinMaxScaler\n",
    "\n",
    "minmax = DataFrame(data)\n",
    "minmax = MinMaxScaler().fit_transform(data)\n",
    "\n",
    "minmax"
   ]
  },
  {
   "cell_type": "markdown",
   "id": "f207ce55",
   "metadata": {},
   "source": [
    "\n",
    "#### Task 2.2: Normalizer (row-wise to unit norm):\n",
    "\n",
    "For each row **Normalizer** divides the row by the norm/magnitude:\n",
    "\n",
    "$$\n",
    "\\mathbf{x}' = \\frac{\\mathbf{x}}{\\|\\mathbf{x}\\|}\n",
    "$$\n",
    "\n",
    "where the norm/magnitude is given by:\n",
    "\n",
    "$$\n",
    "\\|\\mathbf{x}\\| = \\sqrt{x_1^2 + x_2^2 + \\dots + x_n^2}\n",
    "$$"
   ]
  },
  {
   "cell_type": "code",
   "execution_count": 168,
   "id": "ef9c08a1",
   "metadata": {},
   "outputs": [
    {
     "data": {
      "text/plain": [
       "array([[0.09950372, 0.99503719],\n",
       "       [0.09950372, 0.99503719],\n",
       "       [0.09950372, 0.99503719],\n",
       "       [0.09950372, 0.99503719],\n",
       "       [0.09950372, 0.99503719]])"
      ]
     },
     "execution_count": 168,
     "metadata": {},
     "output_type": "execute_result"
    }
   ],
   "source": [
    "from sklearn.preprocessing import Normalizer\n",
    "\n",
    "norm = DataFrame(data)\n",
    "norm = Normalizer().fit_transform(data)\n",
    "\n",
    "norm"
   ]
  },
  {
   "cell_type": "markdown",
   "id": "50879734",
   "metadata": {},
   "source": [
    "\n",
    "#### Task 2.3: Label Encoding\n"
   ]
  },
  {
   "cell_type": "code",
   "execution_count": 169,
   "id": "8d7e6480",
   "metadata": {},
   "outputs": [
    {
     "data": {
      "text/plain": [
       "(array([1., 2., 3., 4., 5.]), array([10., 20., 30., 40., 50.]))"
      ]
     },
     "execution_count": 169,
     "metadata": {},
     "output_type": "execute_result"
    }
   ],
   "source": [
    "from sklearn.preprocessing import LabelEncoder\n",
    "\n",
    "#     (tips: want to know the encoding mapping?\n",
    "#      Try \"list(enc.classes_)\", where enc is the LabelEncoder object)\n",
    "\n",
    "LabelEncoder().fit(data[\"feat1\"]).classes_,\\\n",
    "LabelEncoder().fit(data[\"feat2\"]).classes_"
   ]
  },
  {
   "cell_type": "markdown",
   "id": "9674a399",
   "metadata": {},
   "source": [
    "\n",
    "##### Task 2.4: Questions (answer **in text** as commments below each question)\n",
    "\n",
    "**Q1: When would you prefer StandardScaler vs MinMaxScaler vs Normalizer? Why? Explain briefly.**\n",
    "\n",
    "* StandardScaler - Scales by column, to a normal distribution. Works well when working with statistical data.\n",
    "* MinMaxScaler - Scales by column, to the range [0, 1], while still possible to compare rows.\n",
    "* Normalizer - Scales by row. Now all iformation about scale between rows is lost. Only direction of each row vector can be compared. Useful for some situations where scale is irrelevant and only direction matters.\n",
    "\n",
    "**Q2: Create a small histogram for one feature before and after scaling. Any differences you notice?**\n",
    "\n",
    "For *standard*- and *minmax*-normalization the main difference is that before the normalization the different features were in different buckes in the histogram. After normalization both feat1 and feat2 are evenly distributed in all histogram-buckets. *norm*-normalization makes sure all values within a single feature/column land in the same histogram-bucket."
   ]
  },
  {
   "cell_type": "code",
   "execution_count": 170,
   "id": "71981e7e",
   "metadata": {},
   "outputs": [
    {
     "data": {
      "image/png": "[encoded data removed]",
      "text/plain": [
       "<Figure size 640x480 with 1 Axes>"
      ]
     },
     "metadata": {},
     "output_type": "display_data"
    }
   ],
   "source": [
    "import matplotlib.pyplot as plt\n",
    "plt.hist(data)\n",
    "plt.show()"
   ]
  },
  {
   "cell_type": "code",
   "execution_count": 171,
   "id": "b52cbfe2",
   "metadata": {},
   "outputs": [
    {
     "data": {
      "image/png": "[encoded data removed]",
      "text/plain": [
       "<Figure size 640x480 with 1 Axes>"
      ]
     },
     "metadata": {},
     "output_type": "display_data"
    },
    {
     "data": {
      "image/png": "[encoded data removed]",
      "text/plain": [
       "<Figure size 640x480 with 1 Axes>"
      ]
     },
     "metadata": {},
     "output_type": "display_data"
    },
    {
     "data": {
      "image/png": "[encoded data removed]",
      "text/plain": [
       "<Figure size 640x480 with 1 Axes>"
      ]
     },
     "metadata": {},
     "output_type": "display_data"
    }
   ],
   "source": [
    "plt.hist(standard)\n",
    "plt.show()\n",
    "plt.hist(minmax)\n",
    "plt.show()\n",
    "plt.hist(norm)\n",
    "plt.show()"
   ]
  },
  {
   "cell_type": "markdown",
   "id": "a4ef0951",
   "metadata": {},
   "source": [
    "\n",
    "## Task 3 Perceptron on a simple problem\n",
    "\n",
    "We use **Perceptron** for a binary task (a \"OR gate\" data).\n",
    "\n",
    "**Steps:**\n",
    "0. Build small binary dataset `X_or`, `y_or`.\n",
    "1. Train `Perceptron()` with default params.\n",
    "2. Print predictions for all inputs.\n",
    "3. Try different `max_iter` and `eta0` (learning rate).\n",
    "4. Answer one question.\n",
    "\n",
    "(Tip: Keep it simple. Focus on input → output mapping.)\n"
   ]
  },
  {
   "cell_type": "code",
   "execution_count": 172,
   "id": "e290f1ec",
   "metadata": {},
   "outputs": [
    {
     "data": {
      "text/plain": [
       "array([0, 1, 1, 1])"
      ]
     },
     "execution_count": 172,
     "metadata": {},
     "output_type": "execute_result"
    }
   ],
   "source": [
    "from numpy import array\n",
    "\n",
    "# --- Task 3.0: Data (OR problem: output is 1 except when both inputs are 0)\n",
    "X_or = array([[0,0],[0,1],[1,0],[1,1]], dtype=float)\n",
    "y_or = array([0,1,1,1])\n",
    "\n",
    "\n",
    "# --- Task 3.1: Train Perceptron \n",
    "#     (Hint: use Preceptron() from sklearn.linear_model; then fit(X_or, y_or);\n",
    "#            use default params first, then try changing max_iter and eta0)\n",
    "from sklearn.linear_model import Perceptron\n",
    "perceptron = Perceptron(max_iter=10, eta0=0.5, random_state=42)\n",
    "perceptron.fit(X_or, y_or)\n",
    "\n",
    "# --- Task 3.2: Predict\n",
    "#      (Hint: use clf_perc.predict([x]) for each x in X_or, \n",
    "#             where clf_perc is the trained model, replce clf_perc with your model name)\n",
    "perceptron.predict(X_or)"
   ]
  },
  {
   "cell_type": "markdown",
   "id": "3d1f24e2",
   "metadata": {},
   "source": [
    "#### Task 3.3: Change max_iter and/or eta0 and re-train. Do results change?\n",
    "\n",
    "Only during the first iteration - with `max_iter=1` a difference in result is observed. Else no change from the base `max_iter=10` and `eta0=0.5`.\n"
   ]
  },
  {
   "cell_type": "code",
   "execution_count": 173,
   "id": "77857bc4",
   "metadata": {},
   "outputs": [
    {
     "name": "stdout",
     "output_type": "stream",
     "text": [
      "--- max_iter=1: -------------------------------------------------------\n",
      "perceptron.predict(X_or) with max_iter=1, eta0=0.1:  [1 1 1 1]\n",
      "perceptron.predict(X_or) with max_iter=1, eta0=0.2:  [1 1 1 1]\n",
      "perceptron.predict(X_or) with max_iter=1, eta0=0.3:  [1 1 1 1]\n",
      "perceptron.predict(X_or) with max_iter=1, eta0=0.4:  [1 1 1 1]\n",
      "perceptron.predict(X_or) with max_iter=1, eta0=0.5:  [1 1 1 1]\n",
      "perceptron.predict(X_or) with max_iter=1, eta0=0.6:  [1 1 1 1]\n",
      "perceptron.predict(X_or) with max_iter=1, eta0=0.7:  [1 1 1 1]\n",
      "perceptron.predict(X_or) with max_iter=1, eta0=0.8:  [1 1 1 1]\n",
      "perceptron.predict(X_or) with max_iter=1, eta0=0.9:  [1 1 1 1]\n",
      "perceptron.predict(X_or) with max_iter=1, eta0=1.0:  [1 1 1 1]\n",
      "--- max_iter=2: -------------------------------------------------------\n",
      "perceptron.predict(X_or) with max_iter=2, eta0=0.1:  [0 1 1 1]\n",
      "perceptron.predict(X_or) with max_iter=2, eta0=0.2:  [0 1 1 1]\n",
      "perceptron.predict(X_or) with max_iter=2, eta0=0.3:  [0 1 1 1]\n",
      "perceptron.predict(X_or) with max_iter=2, eta0=0.4:  [0 1 1 1]\n",
      "perceptron.predict(X_or) with max_iter=2, eta0=0.5:  [0 1 1 1]\n",
      "perceptron.predict(X_or) with max_iter=2, eta0=0.6:  [0 1 1 1]\n",
      "perceptron.predict(X_or) with max_iter=2, eta0=0.7:  [0 1 1 1]\n",
      "perceptron.predict(X_or) with max_iter=2, eta0=0.8:  [0 1 1 1]\n",
      "perceptron.predict(X_or) with max_iter=2, eta0=0.9:  [0 1 1 1]\n",
      "perceptron.predict(X_or) with max_iter=2, eta0=1.0:  [0 1 1 1]\n",
      "--- max_iter=3: -------------------------------------------------------\n",
      "perceptron.predict(X_or) with max_iter=3, eta0=0.1:  [0 1 1 1]\n",
      "perceptron.predict(X_or) with max_iter=3, eta0=0.2:  [0 1 1 1]\n",
      "perceptron.predict(X_or) with max_iter=3, eta0=0.3:  [0 1 1 1]\n",
      "perceptron.predict(X_or) with max_iter=3, eta0=0.4:  [0 1 1 1]\n",
      "perceptron.predict(X_or) with max_iter=3, eta0=0.5:  [0 1 1 1]\n",
      "perceptron.predict(X_or) with max_iter=3, eta0=0.6:  [0 1 1 1]\n",
      "perceptron.predict(X_or) with max_iter=3, eta0=0.7:  [0 1 1 1]\n",
      "perceptron.predict(X_or) with max_iter=3, eta0=0.8:  [0 1 1 1]\n",
      "perceptron.predict(X_or) with max_iter=3, eta0=0.9:  [0 1 1 1]\n",
      "perceptron.predict(X_or) with max_iter=3, eta0=1.0:  [0 1 1 1]\n",
      "--- max_iter=4: -------------------------------------------------------\n",
      "perceptron.predict(X_or) with max_iter=4, eta0=0.1:  [0 1 1 1]\n",
      "perceptron.predict(X_or) with max_iter=4, eta0=0.2:  [0 1 1 1]\n",
      "perceptron.predict(X_or) with max_iter=4, eta0=0.3:  [0 1 1 1]\n",
      "perceptron.predict(X_or) with max_iter=4, eta0=0.4:  [0 1 1 1]\n",
      "perceptron.predict(X_or) with max_iter=4, eta0=0.5:  [0 1 1 1]\n",
      "perceptron.predict(X_or) with max_iter=4, eta0=0.6:  [0 1 1 1]\n",
      "perceptron.predict(X_or) with max_iter=4, eta0=0.7:  [0 1 1 1]\n",
      "perceptron.predict(X_or) with max_iter=4, eta0=0.8:  [0 1 1 1]\n",
      "perceptron.predict(X_or) with max_iter=4, eta0=0.9:  [0 1 1 1]\n",
      "perceptron.predict(X_or) with max_iter=4, eta0=1.0:  [0 1 1 1]\n",
      "--- max_iter=5: -------------------------------------------------------\n",
      "perceptron.predict(X_or) with max_iter=5, eta0=0.1:  [0 1 1 1]\n",
      "perceptron.predict(X_or) with max_iter=5, eta0=0.2:  [0 1 1 1]\n",
      "perceptron.predict(X_or) with max_iter=5, eta0=0.3:  [0 1 1 1]\n",
      "perceptron.predict(X_or) with max_iter=5, eta0=0.4:  [0 1 1 1]\n",
      "perceptron.predict(X_or) with max_iter=5, eta0=0.5:  [0 1 1 1]\n",
      "perceptron.predict(X_or) with max_iter=5, eta0=0.6:  [0 1 1 1]\n",
      "perceptron.predict(X_or) with max_iter=5, eta0=0.7:  [0 1 1 1]\n",
      "perceptron.predict(X_or) with max_iter=5, eta0=0.8:  [0 1 1 1]\n",
      "perceptron.predict(X_or) with max_iter=5, eta0=0.9:  [0 1 1 1]\n",
      "perceptron.predict(X_or) with max_iter=5, eta0=1.0:  [0 1 1 1]\n",
      "--- max_iter=6: -------------------------------------------------------\n",
      "perceptron.predict(X_or) with max_iter=6, eta0=0.1:  [0 1 1 1]\n",
      "perceptron.predict(X_or) with max_iter=6, eta0=0.2:  [0 1 1 1]\n",
      "perceptron.predict(X_or) with max_iter=6, eta0=0.3:  [0 1 1 1]\n",
      "perceptron.predict(X_or) with max_iter=6, eta0=0.4:  [0 1 1 1]\n",
      "perceptron.predict(X_or) with max_iter=6, eta0=0.5:  [0 1 1 1]\n",
      "perceptron.predict(X_or) with max_iter=6, eta0=0.6:  [0 1 1 1]\n",
      "perceptron.predict(X_or) with max_iter=6, eta0=0.7:  [0 1 1 1]\n",
      "perceptron.predict(X_or) with max_iter=6, eta0=0.8:  [0 1 1 1]\n",
      "perceptron.predict(X_or) with max_iter=6, eta0=0.9:  [0 1 1 1]\n",
      "perceptron.predict(X_or) with max_iter=6, eta0=1.0:  [0 1 1 1]\n",
      "--- max_iter=7: -------------------------------------------------------\n",
      "perceptron.predict(X_or) with max_iter=7, eta0=0.1:  [0 1 1 1]\n",
      "perceptron.predict(X_or) with max_iter=7, eta0=0.2:  [0 1 1 1]\n",
      "perceptron.predict(X_or) with max_iter=7, eta0=0.3:  [0 1 1 1]\n",
      "perceptron.predict(X_or) with max_iter=7, eta0=0.4:  [0 1 1 1]\n",
      "perceptron.predict(X_or) with max_iter=7, eta0=0.5:  [0 1 1 1]\n",
      "perceptron.predict(X_or) with max_iter=7, eta0=0.6:  [0 1 1 1]\n",
      "perceptron.predict(X_or) with max_iter=7, eta0=0.7:  [0 1 1 1]\n",
      "perceptron.predict(X_or) with max_iter=7, eta0=0.8:  [0 1 1 1]\n",
      "perceptron.predict(X_or) with max_iter=7, eta0=0.9:  [0 1 1 1]\n",
      "perceptron.predict(X_or) with max_iter=7, eta0=1.0:  [0 1 1 1]\n",
      "--- max_iter=8: -------------------------------------------------------\n",
      "perceptron.predict(X_or) with max_iter=8, eta0=0.1:  [0 1 1 1]\n",
      "perceptron.predict(X_or) with max_iter=8, eta0=0.2:  [0 1 1 1]\n",
      "perceptron.predict(X_or) with max_iter=8, eta0=0.3:  [0 1 1 1]\n",
      "perceptron.predict(X_or) with max_iter=8, eta0=0.4:  [0 1 1 1]\n",
      "perceptron.predict(X_or) with max_iter=8, eta0=0.5:  [0 1 1 1]\n",
      "perceptron.predict(X_or) with max_iter=8, eta0=0.6:  [0 1 1 1]\n",
      "perceptron.predict(X_or) with max_iter=8, eta0=0.7:  [0 1 1 1]\n",
      "perceptron.predict(X_or) with max_iter=8, eta0=0.8:  [0 1 1 1]\n",
      "perceptron.predict(X_or) with max_iter=8, eta0=0.9:  [0 1 1 1]\n",
      "perceptron.predict(X_or) with max_iter=8, eta0=1.0:  [0 1 1 1]\n",
      "--- max_iter=9: -------------------------------------------------------\n",
      "perceptron.predict(X_or) with max_iter=9, eta0=0.1:  [0 1 1 1]\n",
      "perceptron.predict(X_or) with max_iter=9, eta0=0.2:  [0 1 1 1]\n",
      "perceptron.predict(X_or) with max_iter=9, eta0=0.3:  [0 1 1 1]\n",
      "perceptron.predict(X_or) with max_iter=9, eta0=0.4:  [0 1 1 1]\n",
      "perceptron.predict(X_or) with max_iter=9, eta0=0.5:  [0 1 1 1]\n",
      "perceptron.predict(X_or) with max_iter=9, eta0=0.6:  [0 1 1 1]\n",
      "perceptron.predict(X_or) with max_iter=9, eta0=0.7:  [0 1 1 1]\n",
      "perceptron.predict(X_or) with max_iter=9, eta0=0.8:  [0 1 1 1]\n",
      "perceptron.predict(X_or) with max_iter=9, eta0=0.9:  [0 1 1 1]\n",
      "perceptron.predict(X_or) with max_iter=9, eta0=1.0:  [0 1 1 1]\n",
      "--- max_iter=10: -------------------------------------------------------\n",
      "perceptron.predict(X_or) with max_iter=10, eta0=0.1:  [0 1 1 1]\n",
      "perceptron.predict(X_or) with max_iter=10, eta0=0.2:  [0 1 1 1]\n",
      "perceptron.predict(X_or) with max_iter=10, eta0=0.3:  [0 1 1 1]\n",
      "perceptron.predict(X_or) with max_iter=10, eta0=0.4:  [0 1 1 1]\n",
      "perceptron.predict(X_or) with max_iter=10, eta0=0.5:  [0 1 1 1]\n",
      "perceptron.predict(X_or) with max_iter=10, eta0=0.6:  [0 1 1 1]\n",
      "perceptron.predict(X_or) with max_iter=10, eta0=0.7:  [0 1 1 1]\n",
      "perceptron.predict(X_or) with max_iter=10, eta0=0.8:  [0 1 1 1]\n",
      "perceptron.predict(X_or) with max_iter=10, eta0=0.9:  [0 1 1 1]\n",
      "perceptron.predict(X_or) with max_iter=10, eta0=1.0:  [0 1 1 1]\n"
     ]
    }
   ],
   "source": [
    "# Filter out warnings about convergence for small max_iter values\n",
    "from sklearn.exceptions import ConvergenceWarning\n",
    "import warnings\n",
    "warnings.filterwarnings(\"ignore\", category=ConvergenceWarning)\n",
    "\n",
    "for i in range(1, 11):\n",
    "    print(f\"--- max_iter={i}: -------------------------------------------------------\")\n",
    "    for j in range(1, 11):\n",
    "\n",
    "        perceptron = Perceptron(max_iter=i, eta0=0.1*j, random_state=42)\n",
    "        perceptron.fit(X_or, y_or)\n",
    "        print(f\"perceptron.predict(X_or) with max_iter={i}, eta0={0.1*j:.1f}: \", perceptron.predict(X_or))"
   ]
  },
  {
   "cell_type": "markdown",
   "id": "6a35837c",
   "metadata": {},
   "source": [
    "\n",
    "## Task 4 Linear Regression (Single Variable)\n",
    "\n",
    "We fit a **Linear Regression** model to a 1D dataset.\n",
    "\n",
    "**Steps:**\n",
    "1. Generate synthetic data: `y = 2.5 * x + noise`.\n",
    "2. Fit `LinearRegression()`.\n",
    "3. Report **MAE**, **MSE**, **R²**.\n",
    "4. Plot data points and the regression line.\n",
    "5. Answer questions "
   ]
  },
  {
   "cell_type": "code",
   "execution_count": 174,
   "id": "8ba8a14e",
   "metadata": {},
   "outputs": [],
   "source": [
    "# --- Task 4.1: Generate synthetic single variable data: y = 2.5 * x + noise, noise ~ N(0,1), X in [0,10], 40 samples\n",
    "#     (Hint: use linspace to generate x values; use np.random.normal to generate noise)\n",
    "\n",
    "def make_task4_data(slope=2.5, std_width=1.0):\n",
    "    from numpy import linspace, random\n",
    "\n",
    "    random.seed(42)  # for reproducibility\n",
    "    X = linspace(0, 10, 40)\n",
    "    x = X.reshape(-1, 1)\n",
    "    noise = random.normal(0, std_width, X.shape)\n",
    "    y = slope * X + noise\n",
    "\n",
    "    # --- Task 4.2: Fit model \n",
    "    #     (Hint: use LinearRegression() from sklearn.linear_model; then fit())\n",
    "    from sklearn.linear_model import LinearRegression\n",
    "    linear = LinearRegression()\n",
    "    linear.fit(x, y)\n",
    "\n",
    "    # --- Task 4.3: Metrics (MAE, MSE, R²)\n",
    "    from numpy import mean\n",
    "    MAE = mean(abs(y - linear.predict(x)))\n",
    "    MSE = mean((y - linear.predict(x))**2)\n",
    "    R2 = linear.score(x, y)\n",
    "\n",
    "    return x, y, linear, MAE, MSE, R2\n",
    "\n",
    "data = make_task4_data()"
   ]
  },
  {
   "cell_type": "markdown",
   "id": "a06fa92b",
   "metadata": {},
   "source": [
    "#### Task 4.4: Plot data points and the regression line"
   ]
  },
  {
   "cell_type": "code",
   "execution_count": 175,
   "id": "5546a9e7",
   "metadata": {},
   "outputs": [
    {
     "data": {
      "image/png": "[encoded data removed]",
      "text/plain": [
       "<Figure size 640x480 with 1 Axes>"
      ]
     },
     "metadata": {},
     "output_type": "display_data"
    }
   ],
   "source": [
    "import matplotlib.pyplot as plt\n",
    "\n",
    "def plot_task4(x, y, linear, MAE, MSE, R2):\n",
    "    plt.scatter(x, y, color='blue', label='Data points')\n",
    "    plt.plot(x, linear.predict(x), color='red', label='Regression line')\n",
    "    plt.text(0.05, 0.95, f\"MSE: {MSE:.3f}\\nMAE: {MAE:.3f}\\nR²: {R2:.3f}\",\n",
    "            transform=plt.gca().transAxes,  # relative to axes (0-1)\n",
    "            verticalalignment='top',\n",
    "            bbox=dict(facecolor='white', alpha=0.5))\n",
    "    plt.xlabel('X')\n",
    "    plt.ylabel('y')\n",
    "    plt.title('Linear Regression Fit')\n",
    "    plt.legend()\n",
    "    plt.show()\n",
    "\n",
    "plot_task4(*data)"
   ]
  },
  {
   "cell_type": "markdown",
   "id": "af2ce9d5",
   "metadata": {},
   "source": [
    "#### Task 4.5.1: Change the slope in data generation to 3.0 and re-run. What happens to R^2? \n",
    "\n",
    "Observing that R2 increased slightly from `0.984` -> `0.989`."
   ]
  },
  {
   "cell_type": "code",
   "execution_count": 176,
   "id": "02eb675b",
   "metadata": {},
   "outputs": [
    {
     "data": {
      "image/png": "[encoded data removed]",
      "text/plain": [
       "<Figure size 640x480 with 1 Axes>"
      ]
     },
     "metadata": {},
     "output_type": "display_data"
    }
   ],
   "source": [
    "\n",
    "data = make_task4_data(slope=3.0)\n",
    "plot_task4(*data)"
   ]
  },
  {
   "cell_type": "markdown",
   "id": "6267b4e4",
   "metadata": {},
   "source": [
    "#### Task 4.5.2: Try adding larger noise (e.g., std=3.0). How do MAE/MSE change?\n",
    "\n",
    "Observing that:\n",
    "* MAE increased from `0.743` -> `2.230`.\n",
    "* MSE increased from `0.830` -> `7.467`."
   ]
  },
  {
   "cell_type": "code",
   "execution_count": 177,
   "id": "7bebb126",
   "metadata": {},
   "outputs": [
    {
     "data": {
      "image/png": "[encoded data removed]",
      "text/plain": [
       "<Figure size 640x480 with 1 Axes>"
      ]
     },
     "metadata": {},
     "output_type": "display_data"
    }
   ],
   "source": [
    "\n",
    "data = make_task4_data(std_width=3.0)\n",
    "plot_task4(*data)"
   ]
  },
  {
   "cell_type": "markdown",
   "id": "5fc5461e",
   "metadata": {},
   "source": [
    "\n",
    "## Task 5 Using kNN for outlier detection\n",
    "\n",
    "We use Iris data (only two features: sepal length & sepal width).\n",
    "\n",
    "\n",
    "| Id | **SepalLengthCm** | **SepalWidthCm** | PetalLengthCm | PetalWidthCm | Species |\n",
    "|----|---------------|---------------|--------------|-----------|--------------|\n",
    "|    |           |                  |              |         |             | \n",
    "\n",
    "\n",
    "*Table 1: Example of Iris dataset structure with SepalLength and SepalWidth in second and third column. Source: https://www.kaggle.com/datasets/uciml/iris*\n",
    "\n",
    "We mark points with **large average distance** to their **k** nearest neighbors.\n",
    "\n",
    "**Steps:**\n",
    "1. Load Iris. Keep only columns: sepal length, sepal width.\n",
    "2. Fit `NearestNeighbors(n_neighbors=k)`.\n",
    "3. Compute the mean distance for each point to its neighbors.\n",
    "4. Choose a threshold (e.g., top 10% largest distances) → mark outliers.\n",
    "5. Plot scatter; mark outliers differently.\n",
    "\n",
    "Start with `k = 5`.\n"
   ]
  },
  {
   "cell_type": "markdown",
   "id": "41e641ba",
   "metadata": {},
   "source": [
    "##### Task 5.1: Load Iris data (sepal length and width)\n"
   ]
  },
  {
   "cell_type": "code",
   "execution_count": 178,
   "id": "26c1d259",
   "metadata": {},
   "outputs": [],
   "source": [
    "#     (Hint: use datasets.load_iris() from sklearn; then use data[:, :2] to get first two features)\n",
    "from sklearn import datasets\n",
    "from pandas import DataFrame\n",
    "\n",
    "iris = datasets.load_iris(as_frame=True).data.copy()\n",
    "iris_limited = iris[[\"sepal length (cm)\", \"sepal width (cm)\"]]\n"
   ]
  },
  {
   "cell_type": "markdown",
   "id": "973a2758",
   "metadata": {},
   "source": [
    "\n",
    "##### Task 5.2: Fit NearestNeighbors\n"
   ]
  },
  {
   "cell_type": "code",
   "execution_count": 179,
   "id": "b4ad83a3",
   "metadata": {},
   "outputs": [
    {
     "data": {
      "text/html": [
       "<style>#sk-container-id-7 {\n",
       "  /* Definition of color scheme common for light and dark mode */\n",
       "  --sklearn-color-text: #000;\n",
       "  --sklearn-color-text-muted: #666;\n",
       "  --sklearn-color-line: gray;\n",
       "  /* Definition of color scheme for unfitted estimators */\n",
       "  --sklearn-color-unfitted-level-0: #fff5e6;\n",
       "  --sklearn-color-unfitted-level-1: #f6e4d2;\n",
       "  --sklearn-color-unfitted-level-2: #ffe0b3;\n",
       "  --sklearn-color-unfitted-level-3: chocolate;\n",
       "  /* Definition of color scheme for fitted estimators */\n",
       "  --sklearn-color-fitted-level-0: #f0f8ff;\n",
       "  --sklearn-color-fitted-level-1: #d4ebff;\n",
       "  --sklearn-color-fitted-level-2: #b3dbfd;\n",
       "  --sklearn-color-fitted-level-3: cornflowerblue;\n",
       "\n",
       "  /* Specific color for light theme */\n",
       "  --sklearn-color-text-on-default-background: var(--sg-text-color, var(--theme-code-foreground, var(--jp-content-font-color1, black)));\n",
       "  --sklearn-color-background: var(--sg-background-color, var(--theme-background, var(--jp-layout-color0, white)));\n",
       "  --sklearn-color-border-box: var(--sg-text-color, var(--theme-code-foreground, var(--jp-content-font-color1, black)));\n",
       "  --sklearn-color-icon: #696969;\n",
       "\n",
       "  @media (prefers-color-scheme: dark) {\n",
       "    /* Redefinition of color scheme for dark theme */\n",
       "    --sklearn-color-text-on-default-background: var(--sg-text-color, var(--theme-code-foreground, var(--jp-content-font-color1, white)));\n",
       "    --sklearn-color-background: var(--sg-background-color, var(--theme-background, var(--jp-layout-color0, #111)));\n",
       "    --sklearn-color-border-box: var(--sg-text-color, var(--theme-code-foreground, var(--jp-content-font-color1, white)));\n",
       "    --sklearn-color-icon: #878787;\n",
       "  }\n",
       "}\n",
       "\n",
       "#sk-container-id-7 {\n",
       "  color: var(--sklearn-color-text);\n",
       "}\n",
       "\n",
       "#sk-container-id-7 pre {\n",
       "  padding: 0;\n",
       "}\n",
       "\n",
       "#sk-container-id-7 input.sk-hidden--visually {\n",
       "  border: 0;\n",
       "  clip: rect(1px 1px 1px 1px);\n",
       "  clip: rect(1px, 1px, 1px, 1px);\n",
       "  height: 1px;\n",
       "  margin: -1px;\n",
       "  overflow: hidden;\n",
       "  padding: 0;\n",
       "  position: absolute;\n",
       "  width: 1px;\n",
       "}\n",
       "\n",
       "#sk-container-id-7 div.sk-dashed-wrapped {\n",
       "  border: 1px dashed var(--sklearn-color-line);\n",
       "  margin: 0 0.4em 0.5em 0.4em;\n",
       "  box-sizing: border-box;\n",
       "  padding-bottom: 0.4em;\n",
       "  background-color: var(--sklearn-color-background);\n",
       "}\n",
       "\n",
       "#sk-container-id-7 div.sk-container {\n",
       "  /* jupyter's `normalize.less` sets `[hidden] { display: none; }`\n",
       "     but bootstrap.min.css set `[hidden] { display: none !important; }`\n",
       "     so we also need the `!important` here to be able to override the\n",
       "     default hidden behavior on the sphinx rendered scikit-learn.org.\n",
       "     See: https://github.com/scikit-learn/scikit-learn/issues/21755 */\n",
       "  display: inline-block !important;\n",
       "  position: relative;\n",
       "}\n",
       "\n",
       "#sk-container-id-7 div.sk-text-repr-fallback {\n",
       "  display: none;\n",
       "}\n",
       "\n",
       "div.sk-parallel-item,\n",
       "div.sk-serial,\n",
       "div.sk-item {\n",
       "  /* draw centered vertical line to link estimators */\n",
       "  background-image: linear-gradient(var(--sklearn-color-text-on-default-background), var(--sklearn-color-text-on-default-background));\n",
       "  background-size: 2px 100%;\n",
       "  background-repeat: no-repeat;\n",
       "  background-position: center center;\n",
       "}\n",
       "\n",
       "/* Parallel-specific style estimator block */\n",
       "\n",
       "#sk-container-id-7 div.sk-parallel-item::after {\n",
       "  content: \"\";\n",
       "  width: 100%;\n",
       "  border-bottom: 2px solid var(--sklearn-color-text-on-default-background);\n",
       "  flex-grow: 1;\n",
       "}\n",
       "\n",
       "#sk-container-id-7 div.sk-parallel {\n",
       "  display: flex;\n",
       "  align-items: stretch;\n",
       "  justify-content: center;\n",
       "  background-color: var(--sklearn-color-background);\n",
       "  position: relative;\n",
       "}\n",
       "\n",
       "#sk-container-id-7 div.sk-parallel-item {\n",
       "  display: flex;\n",
       "  flex-direction: column;\n",
       "}\n",
       "\n",
       "#sk-container-id-7 div.sk-parallel-item:first-child::after {\n",
       "  align-self: flex-end;\n",
       "  width: 50%;\n",
       "}\n",
       "\n",
       "#sk-container-id-7 div.sk-parallel-item:last-child::after {\n",
       "  align-self: flex-start;\n",
       "  width: 50%;\n",
       "}\n",
       "\n",
       "#sk-container-id-7 div.sk-parallel-item:only-child::after {\n",
       "  width: 0;\n",
       "}\n",
       "\n",
       "/* Serial-specific style estimator block */\n",
       "\n",
       "#sk-container-id-7 div.sk-serial {\n",
       "  display: flex;\n",
       "  flex-direction: column;\n",
       "  align-items: center;\n",
       "  background-color: var(--sklearn-color-background);\n",
       "  padding-right: 1em;\n",
       "  padding-left: 1em;\n",
       "}\n",
       "\n",
       "\n",
       "/* Toggleable style: style used for estimator/Pipeline/ColumnTransformer box that is\n",
       "clickable and can be expanded/collapsed.\n",
       "- Pipeline and ColumnTransformer use this feature and define the default style\n",
       "- Estimators will overwrite some part of the style using the `sk-estimator` class\n",
       "*/\n",
       "\n",
       "/* Pipeline and ColumnTransformer style (default) */\n",
       "\n",
       "#sk-container-id-7 div.sk-toggleable {\n",
       "  /* Default theme specific background. It is overwritten whether we have a\n",
       "  specific estimator or a Pipeline/ColumnTransformer */\n",
       "  background-color: var(--sklearn-color-background);\n",
       "}\n",
       "\n",
       "/* Toggleable label */\n",
       "#sk-container-id-7 label.sk-toggleable__label {\n",
       "  cursor: pointer;\n",
       "  display: flex;\n",
       "  width: 100%;\n",
       "  margin-bottom: 0;\n",
       "  padding: 0.5em;\n",
       "  box-sizing: border-box;\n",
       "  text-align: center;\n",
       "  align-items: start;\n",
       "  justify-content: space-between;\n",
       "  gap: 0.5em;\n",
       "}\n",
       "\n",
       "#sk-container-id-7 label.sk-toggleable__label .caption {\n",
       "  font-size: 0.6rem;\n",
       "  font-weight: lighter;\n",
       "  color: var(--sklearn-color-text-muted);\n",
       "}\n",
       "\n",
       "#sk-container-id-7 label.sk-toggleable__label-arrow:before {\n",
       "  /* Arrow on the left of the label */\n",
       "  content: \"▸\";\n",
       "  float: left;\n",
       "  margin-right: 0.25em;\n",
       "  color: var(--sklearn-color-icon);\n",
       "}\n",
       "\n",
       "#sk-container-id-7 label.sk-toggleable__label-arrow:hover:before {\n",
       "  color: var(--sklearn-color-text);\n",
       "}\n",
       "\n",
       "/* Toggleable content - dropdown */\n",
       "\n",
       "#sk-container-id-7 div.sk-toggleable__content {\n",
       "  display: none;\n",
       "  text-align: left;\n",
       "  /* unfitted */\n",
       "  background-color: var(--sklearn-color-unfitted-level-0);\n",
       "}\n",
       "\n",
       "#sk-container-id-7 div.sk-toggleable__content.fitted {\n",
       "  /* fitted */\n",
       "  background-color: var(--sklearn-color-fitted-level-0);\n",
       "}\n",
       "\n",
       "#sk-container-id-7 div.sk-toggleable__content pre {\n",
       "  margin: 0.2em;\n",
       "  border-radius: 0.25em;\n",
       "  color: var(--sklearn-color-text);\n",
       "  /* unfitted */\n",
       "  background-color: var(--sklearn-color-unfitted-level-0);\n",
       "}\n",
       "\n",
       "#sk-container-id-7 div.sk-toggleable__content.fitted pre {\n",
       "  /* unfitted */\n",
       "  background-color: var(--sklearn-color-fitted-level-0);\n",
       "}\n",
       "\n",
       "#sk-container-id-7 input.sk-toggleable__control:checked~div.sk-toggleable__content {\n",
       "  /* Expand drop-down */\n",
       "  display: block;\n",
       "  width: 100%;\n",
       "  overflow: visible;\n",
       "}\n",
       "\n",
       "#sk-container-id-7 input.sk-toggleable__control:checked~label.sk-toggleable__label-arrow:before {\n",
       "  content: \"▾\";\n",
       "}\n",
       "\n",
       "/* Pipeline/ColumnTransformer-specific style */\n",
       "\n",
       "#sk-container-id-7 div.sk-label input.sk-toggleable__control:checked~label.sk-toggleable__label {\n",
       "  color: var(--sklearn-color-text);\n",
       "  background-color: var(--sklearn-color-unfitted-level-2);\n",
       "}\n",
       "\n",
       "#sk-container-id-7 div.sk-label.fitted input.sk-toggleable__control:checked~label.sk-toggleable__label {\n",
       "  background-color: var(--sklearn-color-fitted-level-2);\n",
       "}\n",
       "\n",
       "/* Estimator-specific style */\n",
       "\n",
       "/* Colorize estimator box */\n",
       "#sk-container-id-7 div.sk-estimator input.sk-toggleable__control:checked~label.sk-toggleable__label {\n",
       "  /* unfitted */\n",
       "  background-color: var(--sklearn-color-unfitted-level-2);\n",
       "}\n",
       "\n",
       "#sk-container-id-7 div.sk-estimator.fitted input.sk-toggleable__control:checked~label.sk-toggleable__label {\n",
       "  /* fitted */\n",
       "  background-color: var(--sklearn-color-fitted-level-2);\n",
       "}\n",
       "\n",
       "#sk-container-id-7 div.sk-label label.sk-toggleable__label,\n",
       "#sk-container-id-7 div.sk-label label {\n",
       "  /* The background is the default theme color */\n",
       "  color: var(--sklearn-color-text-on-default-background);\n",
       "}\n",
       "\n",
       "/* On hover, darken the color of the background */\n",
       "#sk-container-id-7 div.sk-label:hover label.sk-toggleable__label {\n",
       "  color: var(--sklearn-color-text);\n",
       "  background-color: var(--sklearn-color-unfitted-level-2);\n",
       "}\n",
       "\n",
       "/* Label box, darken color on hover, fitted */\n",
       "#sk-container-id-7 div.sk-label.fitted:hover label.sk-toggleable__label.fitted {\n",
       "  color: var(--sklearn-color-text);\n",
       "  background-color: var(--sklearn-color-fitted-level-2);\n",
       "}\n",
       "\n",
       "/* Estimator label */\n",
       "\n",
       "#sk-container-id-7 div.sk-label label {\n",
       "  font-family: monospace;\n",
       "  font-weight: bold;\n",
       "  display: inline-block;\n",
       "  line-height: 1.2em;\n",
       "}\n",
       "\n",
       "#sk-container-id-7 div.sk-label-container {\n",
       "  text-align: center;\n",
       "}\n",
       "\n",
       "/* Estimator-specific */\n",
       "#sk-container-id-7 div.sk-estimator {\n",
       "  font-family: monospace;\n",
       "  border: 1px dotted var(--sklearn-color-border-box);\n",
       "  border-radius: 0.25em;\n",
       "  box-sizing: border-box;\n",
       "  margin-bottom: 0.5em;\n",
       "  /* unfitted */\n",
       "  background-color: var(--sklearn-color-unfitted-level-0);\n",
       "}\n",
       "\n",
       "#sk-container-id-7 div.sk-estimator.fitted {\n",
       "  /* fitted */\n",
       "  background-color: var(--sklearn-color-fitted-level-0);\n",
       "}\n",
       "\n",
       "/* on hover */\n",
       "#sk-container-id-7 div.sk-estimator:hover {\n",
       "  /* unfitted */\n",
       "  background-color: var(--sklearn-color-unfitted-level-2);\n",
       "}\n",
       "\n",
       "#sk-container-id-7 div.sk-estimator.fitted:hover {\n",
       "  /* fitted */\n",
       "  background-color: var(--sklearn-color-fitted-level-2);\n",
       "}\n",
       "\n",
       "/* Specification for estimator info (e.g. \"i\" and \"?\") */\n",
       "\n",
       "/* Common style for \"i\" and \"?\" */\n",
       "\n",
       ".sk-estimator-doc-link,\n",
       "a:link.sk-estimator-doc-link,\n",
       "a:visited.sk-estimator-doc-link {\n",
       "  float: right;\n",
       "  font-size: smaller;\n",
       "  line-height: 1em;\n",
       "  font-family: monospace;\n",
       "  background-color: var(--sklearn-color-background);\n",
       "  border-radius: 1em;\n",
       "  height: 1em;\n",
       "  width: 1em;\n",
       "  text-decoration: none !important;\n",
       "  margin-left: 0.5em;\n",
       "  text-align: center;\n",
       "  /* unfitted */\n",
       "  border: var(--sklearn-color-unfitted-level-1) 1pt solid;\n",
       "  color: var(--sklearn-color-unfitted-level-1);\n",
       "}\n",
       "\n",
       ".sk-estimator-doc-link.fitted,\n",
       "a:link.sk-estimator-doc-link.fitted,\n",
       "a:visited.sk-estimator-doc-link.fitted {\n",
       "  /* fitted */\n",
       "  border: var(--sklearn-color-fitted-level-1) 1pt solid;\n",
       "  color: var(--sklearn-color-fitted-level-1);\n",
       "}\n",
       "\n",
       "/* On hover */\n",
       "div.sk-estimator:hover .sk-estimator-doc-link:hover,\n",
       ".sk-estimator-doc-link:hover,\n",
       "div.sk-label-container:hover .sk-estimator-doc-link:hover,\n",
       ".sk-estimator-doc-link:hover {\n",
       "  /* unfitted */\n",
       "  background-color: var(--sklearn-color-unfitted-level-3);\n",
       "  color: var(--sklearn-color-background);\n",
       "  text-decoration: none;\n",
       "}\n",
       "\n",
       "div.sk-estimator.fitted:hover .sk-estimator-doc-link.fitted:hover,\n",
       ".sk-estimator-doc-link.fitted:hover,\n",
       "div.sk-label-container:hover .sk-estimator-doc-link.fitted:hover,\n",
       ".sk-estimator-doc-link.fitted:hover {\n",
       "  /* fitted */\n",
       "  background-color: var(--sklearn-color-fitted-level-3);\n",
       "  color: var(--sklearn-color-background);\n",
       "  text-decoration: none;\n",
       "}\n",
       "\n",
       "/* Span, style for the box shown on hovering the info icon */\n",
       ".sk-estimator-doc-link span {\n",
       "  display: none;\n",
       "  z-index: 9999;\n",
       "  position: relative;\n",
       "  font-weight: normal;\n",
       "  right: .2ex;\n",
       "  padding: .5ex;\n",
       "  margin: .5ex;\n",
       "  width: min-content;\n",
       "  min-width: 20ex;\n",
       "  max-width: 50ex;\n",
       "  color: var(--sklearn-color-text);\n",
       "  box-shadow: 2pt 2pt 4pt #999;\n",
       "  /* unfitted */\n",
       "  background: var(--sklearn-color-unfitted-level-0);\n",
       "  border: .5pt solid var(--sklearn-color-unfitted-level-3);\n",
       "}\n",
       "\n",
       ".sk-estimator-doc-link.fitted span {\n",
       "  /* fitted */\n",
       "  background: var(--sklearn-color-fitted-level-0);\n",
       "  border: var(--sklearn-color-fitted-level-3);\n",
       "}\n",
       "\n",
       ".sk-estimator-doc-link:hover span {\n",
       "  display: block;\n",
       "}\n",
       "\n",
       "/* \"?\"-specific style due to the `<a>` HTML tag */\n",
       "\n",
       "#sk-container-id-7 a.estimator_doc_link {\n",
       "  float: right;\n",
       "  font-size: 1rem;\n",
       "  line-height: 1em;\n",
       "  font-family: monospace;\n",
       "  background-color: var(--sklearn-color-background);\n",
       "  border-radius: 1rem;\n",
       "  height: 1rem;\n",
       "  width: 1rem;\n",
       "  text-decoration: none;\n",
       "  /* unfitted */\n",
       "  color: var(--sklearn-color-unfitted-level-1);\n",
       "  border: var(--sklearn-color-unfitted-level-1) 1pt solid;\n",
       "}\n",
       "\n",
       "#sk-container-id-7 a.estimator_doc_link.fitted {\n",
       "  /* fitted */\n",
       "  border: var(--sklearn-color-fitted-level-1) 1pt solid;\n",
       "  color: var(--sklearn-color-fitted-level-1);\n",
       "}\n",
       "\n",
       "/* On hover */\n",
       "#sk-container-id-7 a.estimator_doc_link:hover {\n",
       "  /* unfitted */\n",
       "  background-color: var(--sklearn-color-unfitted-level-3);\n",
       "  color: var(--sklearn-color-background);\n",
       "  text-decoration: none;\n",
       "}\n",
       "\n",
       "#sk-container-id-7 a.estimator_doc_link.fitted:hover {\n",
       "  /* fitted */\n",
       "  background-color: var(--sklearn-color-fitted-level-3);\n",
       "}\n",
       "\n",
       ".estimator-table summary {\n",
       "    padding: .5rem;\n",
       "    font-family: monospace;\n",
       "    cursor: pointer;\n",
       "}\n",
       "\n",
       ".estimator-table details[open] {\n",
       "    padding-left: 0.1rem;\n",
       "    padding-right: 0.1rem;\n",
       "    padding-bottom: 0.3rem;\n",
       "}\n",
       "\n",
       ".estimator-table .parameters-table {\n",
       "    margin-left: auto !important;\n",
       "    margin-right: auto !important;\n",
       "}\n",
       "\n",
       ".estimator-table .parameters-table tr:nth-child(odd) {\n",
       "    background-color: #fff;\n",
       "}\n",
       "\n",
       ".estimator-table .parameters-table tr:nth-child(even) {\n",
       "    background-color: #f6f6f6;\n",
       "}\n",
       "\n",
       ".estimator-table .parameters-table tr:hover {\n",
       "    background-color: #e0e0e0;\n",
       "}\n",
       "\n",
       ".estimator-table table td {\n",
       "    border: 1px solid rgba(106, 105, 104, 0.232);\n",
       "}\n",
       "\n",
       ".user-set td {\n",
       "    color:rgb(255, 94, 0);\n",
       "    text-align: left;\n",
       "}\n",
       "\n",
       ".user-set td.value pre {\n",
       "    color:rgb(255, 94, 0) !important;\n",
       "    background-color: transparent !important;\n",
       "}\n",
       "\n",
       ".default td {\n",
       "    color: black;\n",
       "    text-align: left;\n",
       "}\n",
       "\n",
       ".user-set td i,\n",
       ".default td i {\n",
       "    color: black;\n",
       "}\n",
       "\n",
       ".copy-paste-icon {\n",
       "    background-image: url(data:image/svg+xml;base64,PHN2ZyB4bWxucz0iaHR0cDovL3d3dy53My5vcmcvMjAwMC9zdmciIHZpZXdCb3g9IjAgMCA0NDggNTEyIj48IS0tIUZvbnQgQXdlc29tZSBGcmVlIDYuNy4yIGJ5IEBmb250YXdlc29tZSAtIGh0dHBzOi8vZm9udGF3ZXNvbWUuY29tIExpY2Vuc2UgLSBodHRwczovL2ZvbnRhd2Vzb21lLmNvbS9saWNlbnNlL2ZyZWUgQ29weXJpZ2h0IDIwMjUgRm9udGljb25zLCBJbmMuLS0+PHBhdGggZD0iTTIwOCAwTDMzMi4xIDBjMTIuNyAwIDI0LjkgNS4xIDMzLjkgMTQuMWw2Ny45IDY3LjljOSA5IDE0LjEgMjEuMiAxNC4xIDMzLjlMNDQ4IDMzNmMwIDI2LjUtMjEuNSA0OC00OCA0OGwtMTkyIDBjLTI2LjUgMC00OC0yMS41LTQ4LTQ4bDAtMjg4YzAtMjYuNSAyMS41LTQ4IDQ4LTQ4ek00OCAxMjhsODAgMCAwIDY0LTY0IDAgMCAyNTYgMTkyIDAgMC0zMiA2NCAwIDAgNDhjMCAyNi41LTIxLjUgNDgtNDggNDhMNDggNTEyYy0yNi41IDAtNDgtMjEuNS00OC00OEwwIDE3NmMwLTI2LjUgMjEuNS00OCA0OC00OHoiLz48L3N2Zz4=);\n",
       "    background-repeat: no-repeat;\n",
       "    background-size: 14px 14px;\n",
       "    background-position: 0;\n",
       "    display: inline-block;\n",
       "    width: 14px;\n",
       "    height: 14px;\n",
       "    cursor: pointer;\n",
       "}\n",
       "</style><body><div id=\"sk-container-id-7\" class=\"sk-top-container\"><div class=\"sk-text-repr-fallback\"><pre>NearestNeighbors(n_neighbors=4)</pre><b>In a Jupyter environment, please rerun this cell to show the HTML representation or trust the notebook. <br />On GitHub, the HTML representation is unable to render, please try loading this page with nbviewer.org.</b></div><div class=\"sk-container\" hidden><div class=\"sk-item\"><div class=\"sk-estimator fitted sk-toggleable\"><input class=\"sk-toggleable__control sk-hidden--visually\" id=\"sk-estimator-id-7\" type=\"checkbox\" checked><label for=\"sk-estimator-id-7\" class=\"sk-toggleable__label fitted sk-toggleable__label-arrow\"><div><div>NearestNeighbors</div></div><div><a class=\"sk-estimator-doc-link fitted\" rel=\"noreferrer\" target=\"_blank\" href=\"https://scikit-learn.org/1.7/modules/generated/sklearn.neighbors.NearestNeighbors.html\">?<span>Documentation for NearestNeighbors</span></a><span class=\"sk-estimator-doc-link fitted\">i<span>Fitted</span></span></div></label><div class=\"sk-toggleable__content fitted\" data-param-prefix=\"\">\n",
       "        <div class=\"estimator-table\">\n",
       "            <details>\n",
       "                <summary>Parameters</summary>\n",
       "                <table class=\"parameters-table\">\n",
       "                  <tbody>\n",
       "                    \n",
       "        <tr class=\"user-set\">\n",
       "            <td><i class=\"copy-paste-icon\"\n",
       "                 onclick=\"copyToClipboard('n_neighbors',\n",
       "                          this.parentElement.nextElementSibling)\"\n",
       "            ></i></td>\n",
       "            <td class=\"param\">n_neighbors&nbsp;</td>\n",
       "            <td class=\"value\">4</td>\n",
       "        </tr>\n",
       "    \n",
       "\n",
       "        <tr class=\"default\">\n",
       "            <td><i class=\"copy-paste-icon\"\n",
       "                 onclick=\"copyToClipboard('radius',\n",
       "                          this.parentElement.nextElementSibling)\"\n",
       "            ></i></td>\n",
       "            <td class=\"param\">radius&nbsp;</td>\n",
       "            <td class=\"value\">1.0</td>\n",
       "        </tr>\n",
       "    \n",
       "\n",
       "        <tr class=\"default\">\n",
       "            <td><i class=\"copy-paste-icon\"\n",
       "                 onclick=\"copyToClipboard('algorithm',\n",
       "                          this.parentElement.nextElementSibling)\"\n",
       "            ></i></td>\n",
       "            <td class=\"param\">algorithm&nbsp;</td>\n",
       "            <td class=\"value\">&#x27;auto&#x27;</td>\n",
       "        </tr>\n",
       "    \n",
       "\n",
       "        <tr class=\"default\">\n",
       "            <td><i class=\"copy-paste-icon\"\n",
       "                 onclick=\"copyToClipboard('leaf_size',\n",
       "                          this.parentElement.nextElementSibling)\"\n",
       "            ></i></td>\n",
       "            <td class=\"param\">leaf_size&nbsp;</td>\n",
       "            <td class=\"value\">30</td>\n",
       "        </tr>\n",
       "    \n",
       "\n",
       "        <tr class=\"default\">\n",
       "            <td><i class=\"copy-paste-icon\"\n",
       "                 onclick=\"copyToClipboard('metric',\n",
       "                          this.parentElement.nextElementSibling)\"\n",
       "            ></i></td>\n",
       "            <td class=\"param\">metric&nbsp;</td>\n",
       "            <td class=\"value\">&#x27;minkowski&#x27;</td>\n",
       "        </tr>\n",
       "    \n",
       "\n",
       "        <tr class=\"default\">\n",
       "            <td><i class=\"copy-paste-icon\"\n",
       "                 onclick=\"copyToClipboard('p',\n",
       "                          this.parentElement.nextElementSibling)\"\n",
       "            ></i></td>\n",
       "            <td class=\"param\">p&nbsp;</td>\n",
       "            <td class=\"value\">2</td>\n",
       "        </tr>\n",
       "    \n",
       "\n",
       "        <tr class=\"default\">\n",
       "            <td><i class=\"copy-paste-icon\"\n",
       "                 onclick=\"copyToClipboard('metric_params',\n",
       "                          this.parentElement.nextElementSibling)\"\n",
       "            ></i></td>\n",
       "            <td class=\"param\">metric_params&nbsp;</td>\n",
       "            <td class=\"value\">None</td>\n",
       "        </tr>\n",
       "    \n",
       "\n",
       "        <tr class=\"default\">\n",
       "            <td><i class=\"copy-paste-icon\"\n",
       "                 onclick=\"copyToClipboard('n_jobs',\n",
       "                          this.parentElement.nextElementSibling)\"\n",
       "            ></i></td>\n",
       "            <td class=\"param\">n_jobs&nbsp;</td>\n",
       "            <td class=\"value\">None</td>\n",
       "        </tr>\n",
       "    \n",
       "                  </tbody>\n",
       "                </table>\n",
       "            </details>\n",
       "        </div>\n",
       "    </div></div></div></div></div><script>function copyToClipboard(text, element) {\n",
       "    // Get the parameter prefix from the closest toggleable content\n",
       "    const toggleableContent = element.closest('.sk-toggleable__content');\n",
       "    const paramPrefix = toggleableContent ? toggleableContent.dataset.paramPrefix : '';\n",
       "    const fullParamName = paramPrefix ? `${paramPrefix}${text}` : text;\n",
       "\n",
       "    const originalStyle = element.style;\n",
       "    const computedStyle = window.getComputedStyle(element);\n",
       "    const originalWidth = computedStyle.width;\n",
       "    const originalHTML = element.innerHTML.replace('Copied!', '');\n",
       "\n",
       "    navigator.clipboard.writeText(fullParamName)\n",
       "        .then(() => {\n",
       "            element.style.width = originalWidth;\n",
       "            element.style.color = 'green';\n",
       "            element.innerHTML = \"Copied!\";\n",
       "\n",
       "            setTimeout(() => {\n",
       "                element.innerHTML = originalHTML;\n",
       "                element.style = originalStyle;\n",
       "            }, 2000);\n",
       "        })\n",
       "        .catch(err => {\n",
       "            console.error('Failed to copy:', err);\n",
       "            element.style.color = 'red';\n",
       "            element.innerHTML = \"Failed!\";\n",
       "            setTimeout(() => {\n",
       "                element.innerHTML = originalHTML;\n",
       "                element.style = originalStyle;\n",
       "            }, 2000);\n",
       "        });\n",
       "    return false;\n",
       "}\n",
       "\n",
       "document.querySelectorAll('.fa-regular.fa-copy').forEach(function(element) {\n",
       "    const toggleableContent = element.closest('.sk-toggleable__content');\n",
       "    const paramPrefix = toggleableContent ? toggleableContent.dataset.paramPrefix : '';\n",
       "    const paramName = element.parentElement.nextElementSibling.textContent.trim();\n",
       "    const fullParamName = paramPrefix ? `${paramPrefix}${paramName}` : paramName;\n",
       "\n",
       "    element.setAttribute('title', fullParamName);\n",
       "});\n",
       "</script></body>"
      ],
      "text/plain": [
       "NearestNeighbors(n_neighbors=4)"
      ]
     },
     "execution_count": 179,
     "metadata": {},
     "output_type": "execute_result"
    }
   ],
   "source": [
    "#     (Hint: use NearestNeighbors(n_neighbors=k) from sklearn.neighbors)\n",
    "from sklearn.neighbors import NearestNeighbors\n",
    "\n",
    "knn = NearestNeighbors(n_neighbors=4)\n",
    "knn.fit(iris_limited)\n",
    "knn"
   ]
  },
  {
   "cell_type": "markdown",
   "id": "465b33ad",
   "metadata": {},
   "source": [
    "\n",
    "##### Task 5.3: Mean distance to neighbors\n"
   ]
  },
  {
   "cell_type": "code",
   "execution_count": 180,
   "id": "6e4b3d5c",
   "metadata": {},
   "outputs": [
    {
     "data": {
      "text/html": [
       "<div>\n",
       "<style scoped>\n",
       "    .dataframe tbody tr th:only-of-type {\n",
       "        vertical-align: middle;\n",
       "    }\n",
       "\n",
       "    .dataframe tbody tr th {\n",
       "        vertical-align: top;\n",
       "    }\n",
       "\n",
       "    .dataframe thead th {\n",
       "        text-align: right;\n",
       "    }\n",
       "</style>\n",
       "<table border=\"1\" class=\"dataframe\">\n",
       "  <thead>\n",
       "    <tr style=\"text-align: right;\">\n",
       "      <th></th>\n",
       "      <th>sepal length (cm)</th>\n",
       "      <th>sepal width (cm)</th>\n",
       "    </tr>\n",
       "  </thead>\n",
       "  <tbody>\n",
       "    <tr>\n",
       "      <th>0</th>\n",
       "      <td>5.1</td>\n",
       "      <td>3.5</td>\n",
       "    </tr>\n",
       "    <tr>\n",
       "      <th>17</th>\n",
       "      <td>5.1</td>\n",
       "      <td>3.5</td>\n",
       "    </tr>\n",
       "    <tr>\n",
       "      <th>40</th>\n",
       "      <td>5.0</td>\n",
       "      <td>3.5</td>\n",
       "    </tr>\n",
       "    <tr>\n",
       "      <th>43</th>\n",
       "      <td>5.0</td>\n",
       "      <td>3.5</td>\n",
       "    </tr>\n",
       "  </tbody>\n",
       "</table>\n",
       "</div>"
      ],
      "text/plain": [
       "    sepal length (cm)  sepal width (cm)\n",
       "0                 5.1               3.5\n",
       "17                5.1               3.5\n",
       "40                5.0               3.5\n",
       "43                5.0               3.5"
      ]
     },
     "execution_count": 180,
     "metadata": {},
     "output_type": "execute_result"
    }
   ],
   "source": [
    "#     (Hint: use nn.kneighbors(X_iris) to get distances and indices of neighbors, then compute mean distance)\n",
    "distances, indicies = knn.kneighbors(iris_limited)\n",
    "\n",
    "iris_limited.loc[indicies[0]]"
   ]
  },
  {
   "cell_type": "code",
   "execution_count": 181,
   "id": "439ec7d9",
   "metadata": {},
   "outputs": [
    {
     "data": {
      "text/html": [
       "<div>\n",
       "<style scoped>\n",
       "    .dataframe tbody tr th:only-of-type {\n",
       "        vertical-align: middle;\n",
       "    }\n",
       "\n",
       "    .dataframe tbody tr th {\n",
       "        vertical-align: top;\n",
       "    }\n",
       "\n",
       "    .dataframe thead th {\n",
       "        text-align: right;\n",
       "    }\n",
       "</style>\n",
       "<table border=\"1\" class=\"dataframe\">\n",
       "  <thead>\n",
       "    <tr style=\"text-align: right;\">\n",
       "      <th></th>\n",
       "      <th>0</th>\n",
       "      <th>1</th>\n",
       "      <th>2</th>\n",
       "      <th>3</th>\n",
       "    </tr>\n",
       "  </thead>\n",
       "  <tbody>\n",
       "    <tr>\n",
       "      <th>0</th>\n",
       "      <td>0.0</td>\n",
       "      <td>0.0</td>\n",
       "      <td>0.1</td>\n",
       "      <td>0.1</td>\n",
       "    </tr>\n",
       "  </tbody>\n",
       "</table>\n",
       "</div>"
      ],
      "text/plain": [
       "     0    1    2    3\n",
       "0  0.0  0.0  0.1  0.1"
      ]
     },
     "execution_count": 181,
     "metadata": {},
     "output_type": "execute_result"
    }
   ],
   "source": [
    "DataFrame(distances).head(1)"
   ]
  },
  {
   "cell_type": "code",
   "execution_count": 182,
   "id": "7455f907",
   "metadata": {},
   "outputs": [
    {
     "data": {
      "text/plain": [
       "np.float64(0.04999999999999982)"
      ]
     },
     "execution_count": 182,
     "metadata": {},
     "output_type": "execute_result"
    }
   ],
   "source": [
    "from numpy import mean\n",
    "mean_distances  = [mean(distance) for distance in distances]\n",
    "mean_distances[0]"
   ]
  },
  {
   "cell_type": "markdown",
   "id": "c4fe5d1f",
   "metadata": {},
   "source": [
    "\n",
    "#### Task 5.4: Threshold= top 10%, and find outliers\n",
    "\n",
    "| Percentile | Mean distance |\n",
    "|------------|---------|\n",
    "| 1         | 0       |\n",
    "| 10         | 0.025     |\n",
    "| 50        |  0.085   |\n",
    "| 80        |  0.135 |\n",
    "| 90        |  0.177 |\n",
    "| 95        | 0.245 |\n",
    "| 99        |  0.360 |\n"
   ]
  },
  {
   "cell_type": "code",
   "execution_count": 183,
   "id": "622bbf00",
   "metadata": {},
   "outputs": [
    {
     "data": {
      "text/plain": [
       "array([0.        , 0.025     , 0.08535534, 0.13535534, 0.1771892 ,\n",
       "       0.24507742, 0.36028324])"
      ]
     },
     "execution_count": 183,
     "metadata": {},
     "output_type": "execute_result"
    }
   ],
   "source": [
    "#     (Hint: use np.percentile to get the threshold)\n",
    "\n",
    "from numpy import percentile\n",
    "\n",
    " # 90th percentile is the cutoff point for distance\n",
    "percentile(mean_distances, [1,10,50,80,90,95,99]) \n"
   ]
  },
  {
   "cell_type": "markdown",
   "id": "ed72c2fb",
   "metadata": {},
   "source": [
    "#### Task 5.5: Plot, mark outliers differently, e.g., with 'x'/'*'/'^' marker, different color, etc.\n"
   ]
  },
  {
   "cell_type": "code",
   "execution_count": 184,
   "id": "f0d787d5",
   "metadata": {},
   "outputs": [
    {
     "data": {
      "image/png": "[encoded data removed]",
      "text/plain": [
       "<Figure size 640x480 with 1 Axes>"
      ]
     },
     "metadata": {},
     "output_type": "display_data"
    },
    {
     "data": {
      "text/plain": [
       "np.int64(15)"
      ]
     },
     "execution_count": 184,
     "metadata": {},
     "output_type": "execute_result"
    }
   ],
   "source": [
    "import matplotlib.pyplot as plt\n",
    "from numpy import sum\n",
    "\n",
    "def task5(iris, k=4, treshold=10):\n",
    "    iris_limited = iris[[\"sepal length (cm)\", \"sepal width (cm)\"]]\n",
    "\n",
    "    knn = NearestNeighbors(n_neighbors=k)\n",
    "    knn.fit(iris_limited)\n",
    "    distances, _ = knn.kneighbors(iris_limited)\n",
    "    mean_distances = [mean(distance) for distance in distances]\n",
    "    outlier_limit = percentile(mean_distances, 100 - treshold)\n",
    "\n",
    "    outliers = mean_distances >= outlier_limit\n",
    "    inliers = ~outliers\n",
    "\n",
    "    plt.scatter(\n",
    "        iris_limited.loc[outliers, \"sepal length (cm)\"], \n",
    "        iris_limited.loc[outliers, \"sepal width (cm)\"],\n",
    "        color=\"red\", \n",
    "        label=\"outliers\")\n",
    "\n",
    "    plt.scatter(\n",
    "        iris_limited.loc[inliers, \"sepal length (cm)\"], \n",
    "        iris_limited.loc[inliers, \"sepal width (cm)\"],\n",
    "        color=\"blue\", \n",
    "        label=\"inliers\")\n",
    "\n",
    "    plt.xlabel(\"sepal length (cm)\")\n",
    "    plt.ylabel(\"sepal width (cm)\")\n",
    "    plt.text(\n",
    "        0.05,\n",
    "        0.95,\n",
    "        f\"red: outliers\",\n",
    "        transform=plt.gca().transAxes,  # relative to axes (0-1)\n",
    "        verticalalignment='top',\n",
    "        bbox = dict(facecolor='white',alpha=0.5))\n",
    "\n",
    "    plt.show()\n",
    "\n",
    "    return sum(outliers)\n",
    "\n",
    "task5(iris)\n"
   ]
  },
  {
   "cell_type": "markdown",
   "id": "73995974",
   "metadata": {},
   "source": [
    "\n",
    "#### Question 1: Change k to 2 and 10. How does them outlier set change?\n",
    "\n",
    "\n",
    "| k= | #outliers | Comment |\n",
    "|---|-----------| --------|\n",
    "| 4 | 15        | Base      |\n",
    "| 2 | 17        | More outliers, many the same, some different.      |\n",
    "| 10 | 15       | Same amount of outliers but different outliers.|"
   ]
  },
  {
   "cell_type": "code",
   "execution_count": 185,
   "id": "2f322c5d",
   "metadata": {},
   "outputs": [
    {
     "data": {
      "image/png": "[encoded data removed]",
      "text/plain": [
       "<Figure size 640x480 with 1 Axes>"
      ]
     },
     "metadata": {},
     "output_type": "display_data"
    },
    {
     "data": {
      "text/plain": [
       "np.int64(17)"
      ]
     },
     "execution_count": 185,
     "metadata": {},
     "output_type": "execute_result"
    }
   ],
   "source": [
    "#  -> (your answer):\n",
    "task5(iris, k=2)"
   ]
  },
  {
   "cell_type": "code",
   "execution_count": 186,
   "id": "bbcb8feb",
   "metadata": {},
   "outputs": [
    {
     "data": {
      "image/png": "[encoded data removed]",
      "text/plain": [
       "<Figure size 640x480 with 1 Axes>"
      ]
     },
     "metadata": {},
     "output_type": "display_data"
    },
    {
     "data": {
      "text/plain": [
       "np.int64(15)"
      ]
     },
     "execution_count": 186,
     "metadata": {},
     "output_type": "execute_result"
    }
   ],
   "source": [
    "task5(iris, k=10)"
   ]
  },
  {
   "cell_type": "markdown",
   "id": "c2ddfcef",
   "metadata": {},
   "source": [
    "\n",
    "#### Question 2: Try a stricter threshold (e.g., top 5%). What happens?\n",
    "\n",
    "| Treshold = | #Outliers | Comment |\n",
    "| ----------|-----------|------------|\n",
    "| 10%       | 15       |  Base level |\n",
    "| 5%        | 8        | 50% of base level |\n",
    "| 2%        | 3        | 20% of base level |"
   ]
  },
  {
   "cell_type": "code",
   "execution_count": 187,
   "id": "78b93663",
   "metadata": {},
   "outputs": [
    {
     "data": {
      "image/png": "[encoded data removed]",
      "text/plain": [
       "<Figure size 640x480 with 1 Axes>"
      ]
     },
     "metadata": {},
     "output_type": "display_data"
    },
    {
     "data": {
      "text/plain": [
       "np.int64(15)"
      ]
     },
     "execution_count": 187,
     "metadata": {},
     "output_type": "execute_result"
    }
   ],
   "source": [
    "#  -> (your answer):\n",
    "task5(iris, treshold=10)"
   ]
  },
  {
   "cell_type": "code",
   "execution_count": 188,
   "id": "86741be2",
   "metadata": {},
   "outputs": [
    {
     "data": {
      "image/png": "[encoded data removed]",
      "text/plain": [
       "<Figure size 640x480 with 1 Axes>"
      ]
     },
     "metadata": {},
     "output_type": "display_data"
    },
    {
     "data": {
      "text/plain": [
       "np.int64(8)"
      ]
     },
     "execution_count": 188,
     "metadata": {},
     "output_type": "execute_result"
    }
   ],
   "source": [
    "task5(iris, treshold=5)"
   ]
  },
  {
   "cell_type": "code",
   "execution_count": 189,
   "metadata": {},
   "outputs": [
    {
     "data": {
      "image/png": "[encoded data removed]",
      "text/plain": [
       "<Figure size 640x480 with 1 Axes>"
      ]
     },
     "metadata": {},
     "output_type": "display_data"
    },
    {
     "data": {
      "text/plain": [
       "np.int64(3)"
      ]
     },
     "execution_count": 189,
     "metadata": {},
     "output_type": "execute_result"
    }
   ],
   "source": [
    "task5(iris, treshold=2)"
   ]
  },
  {
   "cell_type": "markdown",
   "id": "be1f85a4",
   "metadata": {},
   "source": [
    "\n",
    "## (Final task) Task 6 End-to-End Classification Pipeline\n",
    "\n",
    "We build a complete supervised learning pipeline using **Digits** data:\n",
    "- **Aim:** Classify hand-written digits (\"0\"–\"9\").\n",
    "- **Model:** `MLPClassifier`, a simple neural network.\n",
    "- **Outputs:** Accuracy and **confusion matrix**.\n",
    "\n",
    "**Steps:**\n",
    "1. Load data: `datasets.load_digits()`.\n",
    "2. Train/validation split: 80% / 20%.\n",
    "3. Scale features with `StandardScaler()`.\n",
    "4. Train `MLPClassifier(hidden_layer_sizes=(50,), max_iter=300, random_state=0)`.\n",
    "5. Evaluate on validation set. Print accuracy.\n",
    "6. Show the **confusion matrix** with `ConfusionMatrixDisplay`.\n",
    "7. Write 3–5 lines: What mistakes are most common? Why?\n",
    "\n",
    "**Tips:**\n",
    "- If training warns about convergence, **increase** `max_iter`.\n",
    "- Use a **small network** to keep runtime short.\n"
   ]
  },
  {
   "cell_type": "code",
   "execution_count": 190,
   "id": "10c4447d",
   "metadata": {},
   "outputs": [],
   "source": [
    "\n",
    "# --- Task 6.1: Load digits\n",
    "#     (Hint: use datasets.load_digits() from sklearn)\n",
    "\n",
    "\n",
    "# --- Task 6.2: Split data into train and validation \n",
    "#     (Hint: use train_test_split from sklearn.model_selection)\n",
    "\n",
    "\n",
    "# --- Task 6.3: Scaling (NOTE: fit on train only!!)\n",
    "\n",
    "\n",
    "\n",
    "# --- Task 6.4: Train a MLPClassifier\n",
    "#     (Hint: use MLPClassifier from sklearn.neural_network)\n",
    "\n",
    "\n",
    "# --- Task 6.5: Evaluate.  Print accuracy.\n",
    "#    (Hint: use mlp.score(), where mlp is your trained model)\n",
    "\n",
    "\n",
    "# --- Task 6.6: Confusion matrix\n",
    "#    (Hint: use confusion_matrix and ConfusionMatrixDisplay from sklearn.metrics)\n",
    "\n",
    "\n",
    "# --- Task 6.7: Questions ---\n",
    "# 1: In 3–5 lines: describe the main error types you see and a possible reason (e.g., similar shapes).\n",
    "#  -> (your answer):\n"
   ]
  },
  {
   "cell_type": "markdown",
   "id": "3e10a27f",
   "metadata": {},
   "source": [
    "## (Optional) Any refection or additional notes you want to add here?"
   ]
  },
  {
   "cell_type": "code",
   "execution_count": null,
   "id": "978f3f6a",
   "metadata": {},
   "outputs": [],
   "source": []
  }
 ],
 "metadata": {
  "kernelspec": {
   "display_name": "Python 3",
   "language": "python",
   "name": "python3"
  },
  "language_info": {
   "codemirror_mode": {
    "name": "ipython",
    "version": 3
   },
   "file_extension": ".py",
   "mimetype": "text/x-python",
   "name": "python",
   "nbconvert_exporter": "python",
   "pygments_lexer": "ipython3",
   "version": "3.13.7"
  }
 },
 "nbformat": 4,
 "nbformat_minor": 5
}
