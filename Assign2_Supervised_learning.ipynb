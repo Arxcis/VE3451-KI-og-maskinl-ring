{
 "cells": [
  {
   "cell_type": "markdown",
   "id": "9f369f0a",
   "metadata": {},
   "source": [
    "\n",
    "# Assignments #2 Supervised Learning  "
   ]
  },
  {
   "cell_type": "code",
   "execution_count": 23,
   "id": "56e82866",
   "metadata": {},
   "outputs": [
    {
     "ename": "ModuleNotFoundError",
     "evalue": "No module named 'matplotlib'",
     "output_type": "error",
     "traceback": [
      "\u001b[31m---------------------------------------------------------------------------\u001b[39m",
      "\u001b[31mModuleNotFoundError\u001b[39m                       Traceback (most recent call last)",
      "\u001b[36mCell\u001b[39m\u001b[36m \u001b[39m\u001b[32mIn[23]\u001b[39m\u001b[32m, line 11\u001b[39m\n\u001b[32m      1\u001b[39m \u001b[38;5;66;03m# ---- (Run this first) ----\u001b[39;00m\n\u001b[32m      2\u001b[39m \u001b[38;5;66;03m# import libraries\u001b[39;00m\n\u001b[32m      3\u001b[39m \u001b[38;5;66;03m#from sklearn.model_selection import train_test_split\u001b[39;00m\n\u001b[32m   (...)\u001b[39m\u001b[32m      9\u001b[39m \n\u001b[32m     10\u001b[39m \u001b[38;5;66;03m# letting plots appear inline\u001b[39;00m\n\u001b[32m---> \u001b[39m\u001b[32m11\u001b[39m \u001b[43mget_ipython\u001b[49m\u001b[43m(\u001b[49m\u001b[43m)\u001b[49m\u001b[43m.\u001b[49m\u001b[43mrun_line_magic\u001b[49m\u001b[43m(\u001b[49m\u001b[33;43m'\u001b[39;49m\u001b[33;43mmatplotlib\u001b[39;49m\u001b[33;43m'\u001b[39;49m\u001b[43m,\u001b[49m\u001b[43m \u001b[49m\u001b[33;43m'\u001b[39;49m\u001b[33;43minline\u001b[39;49m\u001b[33;43m'\u001b[39;49m\u001b[43m)\u001b[49m\n\u001b[32m     13\u001b[39m \u001b[38;5;28mprint\u001b[39m(\u001b[33m\"\u001b[39m\u001b[33mAll Done!\u001b[39m\u001b[33m\"\u001b[39m)\n",
      "\u001b[36mFile \u001b[39m\u001b[32m~/git/github.com/Arxcis/VE3451-KI-og-maskinl-ring/.venv/lib/python3.13/site-packages/IPython/core/interactiveshell.py:2504\u001b[39m, in \u001b[36mInteractiveShell.run_line_magic\u001b[39m\u001b[34m(self, magic_name, line, _stack_depth)\u001b[39m\n\u001b[32m   2502\u001b[39m     kwargs[\u001b[33m'\u001b[39m\u001b[33mlocal_ns\u001b[39m\u001b[33m'\u001b[39m] = \u001b[38;5;28mself\u001b[39m.get_local_scope(stack_depth)\n\u001b[32m   2503\u001b[39m \u001b[38;5;28;01mwith\u001b[39;00m \u001b[38;5;28mself\u001b[39m.builtin_trap:\n\u001b[32m-> \u001b[39m\u001b[32m2504\u001b[39m     result = \u001b[43mfn\u001b[49m\u001b[43m(\u001b[49m\u001b[43m*\u001b[49m\u001b[43margs\u001b[49m\u001b[43m,\u001b[49m\u001b[43m \u001b[49m\u001b[43m*\u001b[49m\u001b[43m*\u001b[49m\u001b[43mkwargs\u001b[49m\u001b[43m)\u001b[49m\n\u001b[32m   2506\u001b[39m \u001b[38;5;66;03m# The code below prevents the output from being displayed\u001b[39;00m\n\u001b[32m   2507\u001b[39m \u001b[38;5;66;03m# when using magics with decorator @output_can_be_silenced\u001b[39;00m\n\u001b[32m   2508\u001b[39m \u001b[38;5;66;03m# when the last Python token in the expression is a ';'.\u001b[39;00m\n\u001b[32m   2509\u001b[39m \u001b[38;5;28;01mif\u001b[39;00m \u001b[38;5;28mgetattr\u001b[39m(fn, magic.MAGIC_OUTPUT_CAN_BE_SILENCED, \u001b[38;5;28;01mFalse\u001b[39;00m):\n",
      "\u001b[36mFile \u001b[39m\u001b[32m~/git/github.com/Arxcis/VE3451-KI-og-maskinl-ring/.venv/lib/python3.13/site-packages/IPython/core/magics/pylab.py:103\u001b[39m, in \u001b[36mPylabMagics.matplotlib\u001b[39m\u001b[34m(self, line)\u001b[39m\n\u001b[32m     98\u001b[39m     \u001b[38;5;28mprint\u001b[39m(\n\u001b[32m     99\u001b[39m         \u001b[33m\"\u001b[39m\u001b[33mAvailable matplotlib backends: \u001b[39m\u001b[38;5;132;01m%s\u001b[39;00m\u001b[33m\"\u001b[39m\n\u001b[32m    100\u001b[39m         % _list_matplotlib_backends_and_gui_loops()\n\u001b[32m    101\u001b[39m     )\n\u001b[32m    102\u001b[39m \u001b[38;5;28;01melse\u001b[39;00m:\n\u001b[32m--> \u001b[39m\u001b[32m103\u001b[39m     gui, backend = \u001b[38;5;28;43mself\u001b[39;49m\u001b[43m.\u001b[49m\u001b[43mshell\u001b[49m\u001b[43m.\u001b[49m\u001b[43menable_matplotlib\u001b[49m\u001b[43m(\u001b[49m\u001b[43margs\u001b[49m\u001b[43m.\u001b[49m\u001b[43mgui\u001b[49m\u001b[43m)\u001b[49m\n\u001b[32m    104\u001b[39m     \u001b[38;5;28mself\u001b[39m._show_matplotlib_backend(args.gui, backend)\n",
      "\u001b[36mFile \u001b[39m\u001b[32m~/git/github.com/Arxcis/VE3451-KI-og-maskinl-ring/.venv/lib/python3.13/site-packages/IPython/core/interactiveshell.py:3787\u001b[39m, in \u001b[36mInteractiveShell.enable_matplotlib\u001b[39m\u001b[34m(self, gui)\u001b[39m\n\u001b[32m   3784\u001b[39m     \u001b[38;5;28;01mimport\u001b[39;00m\u001b[38;5;250m \u001b[39m\u001b[34;01mmatplotlib_inline\u001b[39;00m\u001b[34;01m.\u001b[39;00m\u001b[34;01mbackend_inline\u001b[39;00m\n\u001b[32m   3786\u001b[39m \u001b[38;5;28;01mfrom\u001b[39;00m\u001b[38;5;250m \u001b[39m\u001b[34;01mIPython\u001b[39;00m\u001b[34;01m.\u001b[39;00m\u001b[34;01mcore\u001b[39;00m\u001b[38;5;250m \u001b[39m\u001b[38;5;28;01mimport\u001b[39;00m pylabtools \u001b[38;5;28;01mas\u001b[39;00m pt\n\u001b[32m-> \u001b[39m\u001b[32m3787\u001b[39m gui, backend = \u001b[43mpt\u001b[49m\u001b[43m.\u001b[49m\u001b[43mfind_gui_and_backend\u001b[49m\u001b[43m(\u001b[49m\u001b[43mgui\u001b[49m\u001b[43m,\u001b[49m\u001b[43m \u001b[49m\u001b[38;5;28;43mself\u001b[39;49m\u001b[43m.\u001b[49m\u001b[43mpylab_gui_select\u001b[49m\u001b[43m)\u001b[49m\n\u001b[32m   3789\u001b[39m \u001b[38;5;28;01mif\u001b[39;00m gui != \u001b[38;5;28;01mNone\u001b[39;00m:\n\u001b[32m   3790\u001b[39m     \u001b[38;5;66;03m# If we have our first gui selection, store it\u001b[39;00m\n\u001b[32m   3791\u001b[39m     \u001b[38;5;28;01mif\u001b[39;00m \u001b[38;5;28mself\u001b[39m.pylab_gui_select \u001b[38;5;129;01mis\u001b[39;00m \u001b[38;5;28;01mNone\u001b[39;00m:\n",
      "\u001b[36mFile \u001b[39m\u001b[32m~/git/github.com/Arxcis/VE3451-KI-og-maskinl-ring/.venv/lib/python3.13/site-packages/IPython/core/pylabtools.py:338\u001b[39m, in \u001b[36mfind_gui_and_backend\u001b[39m\u001b[34m(gui, gui_select)\u001b[39m\n\u001b[32m    321\u001b[39m \u001b[38;5;28;01mdef\u001b[39;00m\u001b[38;5;250m \u001b[39m\u001b[34mfind_gui_and_backend\u001b[39m(gui=\u001b[38;5;28;01mNone\u001b[39;00m, gui_select=\u001b[38;5;28;01mNone\u001b[39;00m):\n\u001b[32m    322\u001b[39m \u001b[38;5;250m    \u001b[39m\u001b[33;03m\"\"\"Given a gui string return the gui and mpl backend.\u001b[39;00m\n\u001b[32m    323\u001b[39m \n\u001b[32m    324\u001b[39m \u001b[33;03m    Parameters\u001b[39;00m\n\u001b[32m   (...)\u001b[39m\u001b[32m    335\u001b[39m \u001b[33;03m    'WXAgg','Qt4Agg','module://matplotlib_inline.backend_inline','agg').\u001b[39;00m\n\u001b[32m    336\u001b[39m \u001b[33;03m    \"\"\"\u001b[39;00m\n\u001b[32m--> \u001b[39m\u001b[32m338\u001b[39m     \u001b[38;5;28;01mimport\u001b[39;00m\u001b[38;5;250m \u001b[39m\u001b[34;01mmatplotlib\u001b[39;00m\n\u001b[32m    340\u001b[39m     \u001b[38;5;28;01mif\u001b[39;00m _matplotlib_manages_backends():\n\u001b[32m    341\u001b[39m         backend_registry = matplotlib.backends.registry.backend_registry\n",
      "\u001b[31mModuleNotFoundError\u001b[39m: No module named 'matplotlib'"
     ]
    }
   ],
   "source": [
    "# ---- (Run this first) ----\n",
    "# import libraries\n",
    "#from sklearn.model_selection import train_test_split\n",
    "#from sklearn.metrics import confusion_matrix, ConfusionMatrixDisplay, mean_absolute_error, mean_squared_error, r2_score\n",
    "#rom sklearn.neural_network import MLPClassifier\n",
    "#from sklearn.linear_model import Perceptron, LinearRegression\n",
    "#from sklearn import datasets\n",
    "#from sklearn.neighbors import NearestNeighbors\n",
    "\n",
    "# letting plots appear inline\n",
    "%matplotlib inline\n",
    "\n",
    "print(\"All Done!\")\n"
   ]
  },
  {
   "cell_type": "markdown",
   "id": "3d3a002f",
   "metadata": {},
   "source": [
    "\n",
    "## Task 1 Theory questions\n",
    "\n",
    "Answer **in text** below each question. (1-3 lines per answer)\n",
    "\n",
    "#### 1. What is **supervised learning**? \n",
    "\n",
    "* Supervised learning uses a dataset with a `target`-column.\n",
    "* A dataset with a `target`-column is considered \"labeled\" data.\n",
    "* The `target`-column is the expected output.\n",
    "* The other columns are called `features`.\n",
    "* Given the `features` as input, the model is expected to produce the `target` as output.\n",
    "\n",
    "#### 2. Define **classification**. Give one example.\n",
    "\n",
    "* Classification is the method of grouping together data into distinct groups.\n",
    "* An example of classification is to group players in a role-playing game like: \n",
    "    - \"How often do they login?\" Options: [\"Daily\", \"Weekly\", \"Monthly\"].\n",
    "    - \"Did they spend money?\" Options: [\"Yes\", \"No\"] (binary classification)\n",
    "\n",
    "#### 3. Define **regression**. Give one example.\n",
    "\n",
    "* Regression is the method of approximating the function which gives the best fit to given data.\n",
    "* An example of regression is using a linear function v = ax + b to approximate the relationship between input voltage and output temperature in a thermometer.\n",
    "\n",
    "#### 4. Compare the **difference** between classification and regression?\n",
    "\n",
    "* A classification-function gives categorical output. Example: [\"Male\", \"Female\"], [\"Yes\", \"No\"], etc.\n",
    "* A regression-function gives a numerical output (continuous/floating point or discrete/integer value) over some kind of range. Examples: age in [0-99], temperature in [0, 273], change in [0, 1.0].\n",
    "\n",
    "#### 5. What is a **confusion matrix** used for and how does it help evaluate the performance of a classification model?\n",
    "\n",
    "The confusion matrix shows clearly where the model is correct or where it misclassifies. A perfect model gets a full score, only with values in the diagonal cells and the rest of cells have zero-values. Where the model makes mistakes will be counted in each cell.\n",
    "\n",
    "<div align=\"center\"><img src=\"./images/confusion-matrix.png\" width=300></div>\n",
    "\n",
    "<p align=\"center\"><i>Figure: Confusion matrix shows model predicted wrongly `versicolor` 2 times, when it should have predicted the target: `virginica`.</i></p>\n",
    "\n",
    "#### 6. Why do we **preprocess** data before training? Name **two** techniques.\n",
    "\n",
    "* Binarization - converts binary values to 0 or 1\n",
    "* Mean removal / subtraction - shifts the data by subtracting the mean, and the mean now becomes 0.\n",
    "* Scaling - Adjusts the data to a specific range, for example normalization to the range [0, 1.0]."
   ]
  },
  {
   "cell_type": "markdown",
   "id": "6497428b",
   "metadata": {},
   "source": [
    "\n",
    "## Task 2 Preprocessing & Label Encoding\n",
    "\n",
    "In this task, you are going to practice: scaling, normalization, and label encoding.\n",
    "\n",
    "Here are the sub-tasks:\n",
    "\n",
    "0. Create a small numeric dataset (already provided).\n",
    "1. Apply **StandardScaler** and **MinMaxScaler**. Compare.\n",
    "2. Apply **Normalizer**. Compare.\n",
    "3. Encode simple text labels to numbers with **LabelEncoder**.\n",
    "4. Answer two questions. \n",
    "\n",
    "(HINT: Print small tables. Plot simple histograms to see changes.)\n"
   ]
  },
  {
   "cell_type": "code",
   "execution_count": null,
   "id": "cb4299b1",
   "metadata": {},
   "outputs": [
    {
     "name": "stdout",
     "output_type": "stream",
     "text": [
      "Original data:\n"
     ]
    },
    {
     "data": {
      "text/html": [
       "<div>\n",
       "<style scoped>\n",
       "    .dataframe tbody tr th:only-of-type {\n",
       "        vertical-align: middle;\n",
       "    }\n",
       "\n",
       "    .dataframe tbody tr th {\n",
       "        vertical-align: top;\n",
       "    }\n",
       "\n",
       "    .dataframe thead th {\n",
       "        text-align: right;\n",
       "    }\n",
       "</style>\n",
       "<table border=\"1\" class=\"dataframe\">\n",
       "  <thead>\n",
       "    <tr style=\"text-align: right;\">\n",
       "      <th></th>\n",
       "      <th>feat1</th>\n",
       "      <th>feat2</th>\n",
       "    </tr>\n",
       "  </thead>\n",
       "  <tbody>\n",
       "    <tr>\n",
       "      <th>0</th>\n",
       "      <td>1.0</td>\n",
       "      <td>10.0</td>\n",
       "    </tr>\n",
       "    <tr>\n",
       "      <th>1</th>\n",
       "      <td>2.0</td>\n",
       "      <td>20.0</td>\n",
       "    </tr>\n",
       "    <tr>\n",
       "      <th>2</th>\n",
       "      <td>3.0</td>\n",
       "      <td>30.0</td>\n",
       "    </tr>\n",
       "    <tr>\n",
       "      <th>3</th>\n",
       "      <td>4.0</td>\n",
       "      <td>40.0</td>\n",
       "    </tr>\n",
       "    <tr>\n",
       "      <th>4</th>\n",
       "      <td>5.0</td>\n",
       "      <td>50.0</td>\n",
       "    </tr>\n",
       "  </tbody>\n",
       "</table>\n",
       "</div>"
      ],
      "text/plain": [
       "   feat1  feat2\n",
       "0    1.0   10.0\n",
       "1    2.0   20.0\n",
       "2    3.0   30.0\n",
       "3    4.0   40.0\n",
       "4    5.0   50.0"
      ]
     },
     "metadata": {},
     "output_type": "display_data"
    }
   ],
   "source": [
    "import numpy as np\n",
    "from pandas import DataFrame\n",
    "\n",
    "# --- Task 2.0 Use the provided small dataset below for the following tasks:\n",
    "X = np.array([[1, 10],\n",
    "              [2, 20],\n",
    "              [3, 30],\n",
    "              [4, 40],\n",
    "              [5, 50]], dtype=float)\n",
    "\n",
    "data = DataFrame(X, columns=[\"feat1\",\"feat2\"])\n",
    "print(\"Original data:\")\n",
    "display(data)\n"
   ]
  },
  {
   "cell_type": "markdown",
   "id": "4d77dfa0",
   "metadata": {},
   "source": [
    "#### Task 2.1 StandardScaler\n",
    "\n",
    "\n",
    "For every feature (column) the `StandardScaler` computes:\n",
    "\n",
    "$$\n",
    "z = \\frac{x - \\mu}{\\sigma}\n",
    "$$\n",
    "\n",
    "where 𝜇 is the average and 𝜎 is the standard deviation."
   ]
  },
  {
   "cell_type": "code",
   "execution_count": null,
   "id": "a03a5962",
   "metadata": {},
   "outputs": [
    {
     "data": {
      "text/plain": [
       "array([[-1.41421356, -1.41421356],\n",
       "       [-0.70710678, -0.70710678],\n",
       "       [ 0.        ,  0.        ],\n",
       "       [ 0.70710678,  0.70710678],\n",
       "       [ 1.41421356,  1.41421356]])"
      ]
     },
     "execution_count": 222,
     "metadata": {},
     "output_type": "execute_result"
    }
   ],
   "source": [
    "\n",
    "from sklearn.preprocessing import StandardScaler\n",
    "\n",
    "standard = DataFrame(data)\n",
    "standard = StandardScaler().fit_transform(data)\n",
    "\n",
    "standard"
   ]
  },
  {
   "cell_type": "markdown",
   "id": "7cc5caa1",
   "metadata": {},
   "source": [
    "#### Task 2.1 MinMaxScaler\n",
    "\n",
    "For every feature (column) the `MinMaxScaler` computes:\n",
    "$$\n",
    "x' = \\frac{x - x_{\\min}}{x_{\\max} - x_{\\min}}\n",
    "$$\n",
    "\n",
    "where *x_min* is the lowest value in and column and *x_max* is the highest."
   ]
  },
  {
   "cell_type": "code",
   "execution_count": null,
   "id": "9c629bc4",
   "metadata": {},
   "outputs": [
    {
     "data": {
      "text/plain": [
       "array([[0.  , 0.  ],\n",
       "       [0.25, 0.25],\n",
       "       [0.5 , 0.5 ],\n",
       "       [0.75, 0.75],\n",
       "       [1.  , 1.  ]])"
      ]
     },
     "execution_count": 223,
     "metadata": {},
     "output_type": "execute_result"
    }
   ],
   "source": [
    "from sklearn.preprocessing import MinMaxScaler\n",
    "\n",
    "minmax = DataFrame(data)\n",
    "minmax = MinMaxScaler().fit_transform(data)\n",
    "\n",
    "minmax"
   ]
  },
  {
   "cell_type": "markdown",
   "id": "f207ce55",
   "metadata": {},
   "source": [
    "\n",
    "#### Task 2.2: Normalizer (row-wise to unit norm):\n",
    "\n",
    "For each row **Normalizer** divides the row by the norm/magnitude:\n",
    "\n",
    "$$\n",
    "\\mathbf{x}' = \\frac{\\mathbf{x}}{\\|\\mathbf{x}\\|}\n",
    "$$\n",
    "\n",
    "where the norm/magnitude is given by:\n",
    "\n",
    "$$\n",
    "\\|\\mathbf{x}\\| = \\sqrt{x_1^2 + x_2^2 + \\dots + x_n^2}\n",
    "$$"
   ]
  },
  {
   "cell_type": "code",
   "execution_count": null,
   "id": "ef9c08a1",
   "metadata": {},
   "outputs": [
    {
     "data": {
      "text/plain": [
       "array([[0.09950372, 0.99503719],\n",
       "       [0.09950372, 0.99503719],\n",
       "       [0.09950372, 0.99503719],\n",
       "       [0.09950372, 0.99503719],\n",
       "       [0.09950372, 0.99503719]])"
      ]
     },
     "execution_count": 224,
     "metadata": {},
     "output_type": "execute_result"
    }
   ],
   "source": [
    "from sklearn.preprocessing import Normalizer\n",
    "\n",
    "norm = DataFrame(data)\n",
    "norm = Normalizer().fit_transform(data)\n",
    "\n",
    "norm"
   ]
  },
  {
   "cell_type": "markdown",
   "id": "50879734",
   "metadata": {},
   "source": [
    "\n",
    "#### Task 2.3: Label Encoding\n"
   ]
  },
  {
   "cell_type": "code",
   "execution_count": null,
   "id": "8d7e6480",
   "metadata": {},
   "outputs": [
    {
     "data": {
      "text/plain": [
       "(array([1., 2., 3., 4., 5.]), array([10., 20., 30., 40., 50.]))"
      ]
     },
     "execution_count": 225,
     "metadata": {},
     "output_type": "execute_result"
    }
   ],
   "source": [
    "from sklearn.preprocessing import LabelEncoder\n",
    "\n",
    "#     (tips: want to know the encoding mapping?\n",
    "#      Try \"list(enc.classes_)\", where enc is the LabelEncoder object)\n",
    "\n",
    "LabelEncoder().fit(data[\"feat1\"]).classes_,\\\n",
    "LabelEncoder().fit(data[\"feat2\"]).classes_"
   ]
  },
  {
   "cell_type": "markdown",
   "id": "9674a399",
   "metadata": {},
   "source": [
    "\n",
    "##### Task 2.4: Questions (answer **in text** as commments below each question)\n",
    "\n",
    "**Q1: When would you prefer StandardScaler vs MinMaxScaler vs Normalizer? Why? Explain briefly.**\n",
    "\n",
    "* StandardScaler - Scales by column, to a normal distribution. Works well when working with statistical data.\n",
    "* MinMaxScaler - Scales by column, to the range [0, 1], while still possible to compare rows.\n",
    "* Normalizer - Scales by row. Now all iformation about scale between rows is lost. Only direction of each row vector can be compared. Useful for some situations where scale is irrelevant and only direction matters.\n",
    "\n",
    "**Q2: Create a small histogram for one feature before and after scaling. Any differences you notice?**\n",
    "\n",
    "For *standard*- and *minmax*-normalization the main difference is that before the normalization the different features were in different buckes in the histogram. After normalization both feat1 and feat2 are evenly distributed in all histogram-buckets. *norm*-normalization makes sure all values within a single feature/column land in the same histogram-bucket."
   ]
  },
  {
   "cell_type": "code",
   "execution_count": null,
   "id": "71981e7e",
   "metadata": {},
   "outputs": [
    {
     "data": {
      "image/png": "[encoded data removed]",
      "text/plain": [
       "<Figure size 640x480 with 1 Axes>"
      ]
     },
     "metadata": {},
     "output_type": "display_data"
    }
   ],
   "source": [
    "import matplotlib.pyplot as plt\n",
    "plt.hist(data)\n",
    "plt.show()"
   ]
  },
  {
   "cell_type": "code",
   "execution_count": null,
   "id": "b52cbfe2",
   "metadata": {},
   "outputs": [
    {
     "data": {
      "image/png": "[encoded data removed]",
      "text/plain": [
       "<Figure size 640x480 with 1 Axes>"
      ]
     },
     "metadata": {},
     "output_type": "display_data"
    },
    {
     "data": {
      "image/png": "[encoded data removed]",
      "text/plain": [
       "<Figure size 640x480 with 1 Axes>"
      ]
     },
     "metadata": {},
     "output_type": "display_data"
    },
    {
     "data": {
      "image/png": "[encoded data removed]",
      "text/plain": [
       "<Figure size 640x480 with 1 Axes>"
      ]
     },
     "metadata": {},
     "output_type": "display_data"
    }
   ],
   "source": [
    "plt.hist(standard)\n",
    "plt.show()\n",
    "plt.hist(minmax)\n",
    "plt.show()\n",
    "plt.hist(norm)\n",
    "plt.show()"
   ]
  },
  {
   "cell_type": "markdown",
   "id": "a4ef0951",
   "metadata": {},
   "source": [
    "\n",
    "## Task 3 Perceptron on a simple problem\n",
    "\n",
    "We use **Perceptron** for a binary task (a \"OR gate\" data).\n",
    "\n",
    "**Steps:**\n",
    "0. Build small binary dataset `X_or`, `y_or`.\n",
    "1. Train `Perceptron()` with default params.\n",
    "2. Print predictions for all inputs.\n",
    "3. Try different `max_iter` and `eta0` (learning rate).\n",
    "4. Answer one question.\n",
    "\n",
    "(Tip: Keep it simple. Focus on input → output mapping.)\n"
   ]
  },
  {
   "cell_type": "code",
   "execution_count": null,
   "id": "e290f1ec",
   "metadata": {},
   "outputs": [
    {
     "data": {
      "text/plain": [
       "array([0, 1, 1, 1])"
      ]
     },
     "execution_count": 9,
     "metadata": {},
     "output_type": "execute_result"
    }
   ],
   "source": [
    "from numpy import array\n",
    "\n",
    "# --- Task 3.0: Data (OR problem: output is 1 except when both inputs are 0)\n",
    "X_or = array([[0,0],[0,1],[1,0],[1,1]], dtype=float)\n",
    "y_or = array([0,1,1,1])\n",
    "\n",
    "\n",
    "# --- Task 3.1: Train Perceptron \n",
    "#     (Hint: use Preceptron() from sklearn.linear_model; then fit(X_or, y_or);\n",
    "#            use default params first, then try changing max_iter and eta0)\n",
    "from sklearn.linear_model import Perceptron\n",
    "perceptron = Perceptron(max_iter=10, eta0=0.5, random_state=42)\n",
    "perceptron.fit(X_or, y_or)\n",
    "\n",
    "# --- Task 3.2: Predict\n",
    "#      (Hint: use clf_perc.predict([x]) for each x in X_or, \n",
    "#             where clf_perc is the trained model, replce clf_perc with your model name)\n",
    "perceptron.predict(X_or)"
   ]
  },
  {
   "cell_type": "markdown",
   "id": "3d1f24e2",
   "metadata": {},
   "source": [
    "#### Task 3.3: Change max_iter and/or eta0 and re-train. Do results change?\n",
    "\n",
    "Only during the first iteration - with `max_iter=1` a difference in result is observed. Else no change from the base `max_iter=10` and `eta0=0.5`.\n"
   ]
  },
  {
   "cell_type": "code",
   "execution_count": 24,
   "id": "77857bc4",
   "metadata": {},
   "outputs": [
    {
     "name": "stdout",
     "output_type": "stream",
     "text": [
      "--- max_iter=1: -------------------------------------------------------\n",
      "perceptron.predict(X_or) with max_iter=1, eta0=0.1:  [1 1 1 1]\n",
      "perceptron.predict(X_or) with max_iter=1, eta0=0.2:  [1 1 1 1]\n",
      "perceptron.predict(X_or) with max_iter=1, eta0=0.3:  [1 1 1 1]\n",
      "perceptron.predict(X_or) with max_iter=1, eta0=0.4:  [1 1 1 1]\n",
      "perceptron.predict(X_or) with max_iter=1, eta0=0.5:  [1 1 1 1]\n",
      "perceptron.predict(X_or) with max_iter=1, eta0=0.6:  [1 1 1 1]\n",
      "perceptron.predict(X_or) with max_iter=1, eta0=0.7:  [1 1 1 1]\n",
      "perceptron.predict(X_or) with max_iter=1, eta0=0.8:  [1 1 1 1]\n",
      "perceptron.predict(X_or) with max_iter=1, eta0=0.9:  [1 1 1 1]\n",
      "perceptron.predict(X_or) with max_iter=1, eta0=1.0:  [1 1 1 1]\n",
      "--- max_iter=2: -------------------------------------------------------\n",
      "perceptron.predict(X_or) with max_iter=2, eta0=0.1:  [0 1 1 1]\n",
      "perceptron.predict(X_or) with max_iter=2, eta0=0.2:  [0 1 1 1]\n",
      "perceptron.predict(X_or) with max_iter=2, eta0=0.3:  [0 1 1 1]\n",
      "perceptron.predict(X_or) with max_iter=2, eta0=0.4:  [0 1 1 1]\n",
      "perceptron.predict(X_or) with max_iter=2, eta0=0.5:  [0 1 1 1]\n",
      "perceptron.predict(X_or) with max_iter=2, eta0=0.6:  [0 1 1 1]\n",
      "perceptron.predict(X_or) with max_iter=2, eta0=0.7:  [0 1 1 1]\n",
      "perceptron.predict(X_or) with max_iter=2, eta0=0.8:  [0 1 1 1]\n",
      "perceptron.predict(X_or) with max_iter=2, eta0=0.9:  [0 1 1 1]\n",
      "perceptron.predict(X_or) with max_iter=2, eta0=1.0:  [0 1 1 1]\n",
      "--- max_iter=3: -------------------------------------------------------\n",
      "perceptron.predict(X_or) with max_iter=3, eta0=0.1:  [0 1 1 1]\n",
      "perceptron.predict(X_or) with max_iter=3, eta0=0.2:  [0 1 1 1]\n",
      "perceptron.predict(X_or) with max_iter=3, eta0=0.3:  [0 1 1 1]\n",
      "perceptron.predict(X_or) with max_iter=3, eta0=0.4:  [0 1 1 1]\n",
      "perceptron.predict(X_or) with max_iter=3, eta0=0.5:  [0 1 1 1]\n",
      "perceptron.predict(X_or) with max_iter=3, eta0=0.6:  [0 1 1 1]\n",
      "perceptron.predict(X_or) with max_iter=3, eta0=0.7:  [0 1 1 1]\n",
      "perceptron.predict(X_or) with max_iter=3, eta0=0.8:  [0 1 1 1]\n",
      "perceptron.predict(X_or) with max_iter=3, eta0=0.9:  [0 1 1 1]\n",
      "perceptron.predict(X_or) with max_iter=3, eta0=1.0:  [0 1 1 1]\n",
      "--- max_iter=4: -------------------------------------------------------\n",
      "perceptron.predict(X_or) with max_iter=4, eta0=0.1:  [0 1 1 1]\n",
      "perceptron.predict(X_or) with max_iter=4, eta0=0.2:  [0 1 1 1]\n",
      "perceptron.predict(X_or) with max_iter=4, eta0=0.3:  [0 1 1 1]\n",
      "perceptron.predict(X_or) with max_iter=4, eta0=0.4:  [0 1 1 1]\n",
      "perceptron.predict(X_or) with max_iter=4, eta0=0.5:  [0 1 1 1]\n",
      "perceptron.predict(X_or) with max_iter=4, eta0=0.6:  [0 1 1 1]\n",
      "perceptron.predict(X_or) with max_iter=4, eta0=0.7:  [0 1 1 1]\n",
      "perceptron.predict(X_or) with max_iter=4, eta0=0.8:  [0 1 1 1]\n",
      "perceptron.predict(X_or) with max_iter=4, eta0=0.9:  [0 1 1 1]\n",
      "perceptron.predict(X_or) with max_iter=4, eta0=1.0:  [0 1 1 1]\n",
      "--- max_iter=5: -------------------------------------------------------\n",
      "perceptron.predict(X_or) with max_iter=5, eta0=0.1:  [0 1 1 1]\n",
      "perceptron.predict(X_or) with max_iter=5, eta0=0.2:  [0 1 1 1]\n",
      "perceptron.predict(X_or) with max_iter=5, eta0=0.3:  [0 1 1 1]\n",
      "perceptron.predict(X_or) with max_iter=5, eta0=0.4:  [0 1 1 1]\n",
      "perceptron.predict(X_or) with max_iter=5, eta0=0.5:  [0 1 1 1]\n",
      "perceptron.predict(X_or) with max_iter=5, eta0=0.6:  [0 1 1 1]\n",
      "perceptron.predict(X_or) with max_iter=5, eta0=0.7:  [0 1 1 1]\n",
      "perceptron.predict(X_or) with max_iter=5, eta0=0.8:  [0 1 1 1]\n",
      "perceptron.predict(X_or) with max_iter=5, eta0=0.9:  [0 1 1 1]\n",
      "perceptron.predict(X_or) with max_iter=5, eta0=1.0:  [0 1 1 1]\n",
      "--- max_iter=6: -------------------------------------------------------\n",
      "perceptron.predict(X_or) with max_iter=6, eta0=0.1:  [0 1 1 1]\n",
      "perceptron.predict(X_or) with max_iter=6, eta0=0.2:  [0 1 1 1]\n",
      "perceptron.predict(X_or) with max_iter=6, eta0=0.3:  [0 1 1 1]\n",
      "perceptron.predict(X_or) with max_iter=6, eta0=0.4:  [0 1 1 1]\n",
      "perceptron.predict(X_or) with max_iter=6, eta0=0.5:  [0 1 1 1]\n",
      "perceptron.predict(X_or) with max_iter=6, eta0=0.6:  [0 1 1 1]\n",
      "perceptron.predict(X_or) with max_iter=6, eta0=0.7:  [0 1 1 1]\n",
      "perceptron.predict(X_or) with max_iter=6, eta0=0.8:  [0 1 1 1]\n",
      "perceptron.predict(X_or) with max_iter=6, eta0=0.9:  [0 1 1 1]\n",
      "perceptron.predict(X_or) with max_iter=6, eta0=1.0:  [0 1 1 1]\n",
      "--- max_iter=7: -------------------------------------------------------\n",
      "perceptron.predict(X_or) with max_iter=7, eta0=0.1:  [0 1 1 1]\n",
      "perceptron.predict(X_or) with max_iter=7, eta0=0.2:  [0 1 1 1]\n",
      "perceptron.predict(X_or) with max_iter=7, eta0=0.3:  [0 1 1 1]\n",
      "perceptron.predict(X_or) with max_iter=7, eta0=0.4:  [0 1 1 1]\n",
      "perceptron.predict(X_or) with max_iter=7, eta0=0.5:  [0 1 1 1]\n",
      "perceptron.predict(X_or) with max_iter=7, eta0=0.6:  [0 1 1 1]\n",
      "perceptron.predict(X_or) with max_iter=7, eta0=0.7:  [0 1 1 1]\n",
      "perceptron.predict(X_or) with max_iter=7, eta0=0.8:  [0 1 1 1]\n",
      "perceptron.predict(X_or) with max_iter=7, eta0=0.9:  [0 1 1 1]\n",
      "perceptron.predict(X_or) with max_iter=7, eta0=1.0:  [0 1 1 1]\n",
      "--- max_iter=8: -------------------------------------------------------\n",
      "perceptron.predict(X_or) with max_iter=8, eta0=0.1:  [0 1 1 1]\n",
      "perceptron.predict(X_or) with max_iter=8, eta0=0.2:  [0 1 1 1]\n",
      "perceptron.predict(X_or) with max_iter=8, eta0=0.3:  [0 1 1 1]\n",
      "perceptron.predict(X_or) with max_iter=8, eta0=0.4:  [0 1 1 1]\n",
      "perceptron.predict(X_or) with max_iter=8, eta0=0.5:  [0 1 1 1]\n",
      "perceptron.predict(X_or) with max_iter=8, eta0=0.6:  [0 1 1 1]\n",
      "perceptron.predict(X_or) with max_iter=8, eta0=0.7:  [0 1 1 1]\n",
      "perceptron.predict(X_or) with max_iter=8, eta0=0.8:  [0 1 1 1]\n",
      "perceptron.predict(X_or) with max_iter=8, eta0=0.9:  [0 1 1 1]\n",
      "perceptron.predict(X_or) with max_iter=8, eta0=1.0:  [0 1 1 1]\n",
      "--- max_iter=9: -------------------------------------------------------\n",
      "perceptron.predict(X_or) with max_iter=9, eta0=0.1:  [0 1 1 1]\n",
      "perceptron.predict(X_or) with max_iter=9, eta0=0.2:  [0 1 1 1]\n",
      "perceptron.predict(X_or) with max_iter=9, eta0=0.3:  [0 1 1 1]\n",
      "perceptron.predict(X_or) with max_iter=9, eta0=0.4:  [0 1 1 1]\n",
      "perceptron.predict(X_or) with max_iter=9, eta0=0.5:  [0 1 1 1]\n",
      "perceptron.predict(X_or) with max_iter=9, eta0=0.6:  [0 1 1 1]\n",
      "perceptron.predict(X_or) with max_iter=9, eta0=0.7:  [0 1 1 1]\n",
      "perceptron.predict(X_or) with max_iter=9, eta0=0.8:  [0 1 1 1]\n",
      "perceptron.predict(X_or) with max_iter=9, eta0=0.9:  [0 1 1 1]\n",
      "perceptron.predict(X_or) with max_iter=9, eta0=1.0:  [0 1 1 1]\n",
      "--- max_iter=10: -------------------------------------------------------\n",
      "perceptron.predict(X_or) with max_iter=10, eta0=0.1:  [0 1 1 1]\n",
      "perceptron.predict(X_or) with max_iter=10, eta0=0.2:  [0 1 1 1]\n",
      "perceptron.predict(X_or) with max_iter=10, eta0=0.3:  [0 1 1 1]\n",
      "perceptron.predict(X_or) with max_iter=10, eta0=0.4:  [0 1 1 1]\n",
      "perceptron.predict(X_or) with max_iter=10, eta0=0.5:  [0 1 1 1]\n",
      "perceptron.predict(X_or) with max_iter=10, eta0=0.6:  [0 1 1 1]\n",
      "perceptron.predict(X_or) with max_iter=10, eta0=0.7:  [0 1 1 1]\n",
      "perceptron.predict(X_or) with max_iter=10, eta0=0.8:  [0 1 1 1]\n",
      "perceptron.predict(X_or) with max_iter=10, eta0=0.9:  [0 1 1 1]\n",
      "perceptron.predict(X_or) with max_iter=10, eta0=1.0:  [0 1 1 1]\n"
     ]
    },
    {
     "name": "stderr",
     "output_type": "stream",
     "text": [
      "/Users/jonas/git/github.com/Arxcis/VE3451-KI-og-maskinl-ring/.venv/lib/python3.13/site-packages/sklearn/linear_model/_stochastic_gradient.py:726: ConvergenceWarning: Maximum number of iteration reached before convergence. Consider increasing max_iter to improve the fit.\n",
      "  warnings.warn(\n",
      "/Users/jonas/git/github.com/Arxcis/VE3451-KI-og-maskinl-ring/.venv/lib/python3.13/site-packages/sklearn/linear_model/_stochastic_gradient.py:726: ConvergenceWarning: Maximum number of iteration reached before convergence. Consider increasing max_iter to improve the fit.\n",
      "  warnings.warn(\n",
      "/Users/jonas/git/github.com/Arxcis/VE3451-KI-og-maskinl-ring/.venv/lib/python3.13/site-packages/sklearn/linear_model/_stochastic_gradient.py:726: ConvergenceWarning: Maximum number of iteration reached before convergence. Consider increasing max_iter to improve the fit.\n",
      "  warnings.warn(\n",
      "/Users/jonas/git/github.com/Arxcis/VE3451-KI-og-maskinl-ring/.venv/lib/python3.13/site-packages/sklearn/linear_model/_stochastic_gradient.py:726: ConvergenceWarning: Maximum number of iteration reached before convergence. Consider increasing max_iter to improve the fit.\n",
      "  warnings.warn(\n",
      "/Users/jonas/git/github.com/Arxcis/VE3451-KI-og-maskinl-ring/.venv/lib/python3.13/site-packages/sklearn/linear_model/_stochastic_gradient.py:726: ConvergenceWarning: Maximum number of iteration reached before convergence. Consider increasing max_iter to improve the fit.\n",
      "  warnings.warn(\n",
      "/Users/jonas/git/github.com/Arxcis/VE3451-KI-og-maskinl-ring/.venv/lib/python3.13/site-packages/sklearn/linear_model/_stochastic_gradient.py:726: ConvergenceWarning: Maximum number of iteration reached before convergence. Consider increasing max_iter to improve the fit.\n",
      "  warnings.warn(\n",
      "/Users/jonas/git/github.com/Arxcis/VE3451-KI-og-maskinl-ring/.venv/lib/python3.13/site-packages/sklearn/linear_model/_stochastic_gradient.py:726: ConvergenceWarning: Maximum number of iteration reached before convergence. Consider increasing max_iter to improve the fit.\n",
      "  warnings.warn(\n",
      "/Users/jonas/git/github.com/Arxcis/VE3451-KI-og-maskinl-ring/.venv/lib/python3.13/site-packages/sklearn/linear_model/_stochastic_gradient.py:726: ConvergenceWarning: Maximum number of iteration reached before convergence. Consider increasing max_iter to improve the fit.\n",
      "  warnings.warn(\n",
      "/Users/jonas/git/github.com/Arxcis/VE3451-KI-og-maskinl-ring/.venv/lib/python3.13/site-packages/sklearn/linear_model/_stochastic_gradient.py:726: ConvergenceWarning: Maximum number of iteration reached before convergence. Consider increasing max_iter to improve the fit.\n",
      "  warnings.warn(\n",
      "/Users/jonas/git/github.com/Arxcis/VE3451-KI-og-maskinl-ring/.venv/lib/python3.13/site-packages/sklearn/linear_model/_stochastic_gradient.py:726: ConvergenceWarning: Maximum number of iteration reached before convergence. Consider increasing max_iter to improve the fit.\n",
      "  warnings.warn(\n",
      "/Users/jonas/git/github.com/Arxcis/VE3451-KI-og-maskinl-ring/.venv/lib/python3.13/site-packages/sklearn/linear_model/_stochastic_gradient.py:726: ConvergenceWarning: Maximum number of iteration reached before convergence. Consider increasing max_iter to improve the fit.\n",
      "  warnings.warn(\n",
      "/Users/jonas/git/github.com/Arxcis/VE3451-KI-og-maskinl-ring/.venv/lib/python3.13/site-packages/sklearn/linear_model/_stochastic_gradient.py:726: ConvergenceWarning: Maximum number of iteration reached before convergence. Consider increasing max_iter to improve the fit.\n",
      "  warnings.warn(\n",
      "/Users/jonas/git/github.com/Arxcis/VE3451-KI-og-maskinl-ring/.venv/lib/python3.13/site-packages/sklearn/linear_model/_stochastic_gradient.py:726: ConvergenceWarning: Maximum number of iteration reached before convergence. Consider increasing max_iter to improve the fit.\n",
      "  warnings.warn(\n",
      "/Users/jonas/git/github.com/Arxcis/VE3451-KI-og-maskinl-ring/.venv/lib/python3.13/site-packages/sklearn/linear_model/_stochastic_gradient.py:726: ConvergenceWarning: Maximum number of iteration reached before convergence. Consider increasing max_iter to improve the fit.\n",
      "  warnings.warn(\n",
      "/Users/jonas/git/github.com/Arxcis/VE3451-KI-og-maskinl-ring/.venv/lib/python3.13/site-packages/sklearn/linear_model/_stochastic_gradient.py:726: ConvergenceWarning: Maximum number of iteration reached before convergence. Consider increasing max_iter to improve the fit.\n",
      "  warnings.warn(\n",
      "/Users/jonas/git/github.com/Arxcis/VE3451-KI-og-maskinl-ring/.venv/lib/python3.13/site-packages/sklearn/linear_model/_stochastic_gradient.py:726: ConvergenceWarning: Maximum number of iteration reached before convergence. Consider increasing max_iter to improve the fit.\n",
      "  warnings.warn(\n",
      "/Users/jonas/git/github.com/Arxcis/VE3451-KI-og-maskinl-ring/.venv/lib/python3.13/site-packages/sklearn/linear_model/_stochastic_gradient.py:726: ConvergenceWarning: Maximum number of iteration reached before convergence. Consider increasing max_iter to improve the fit.\n",
      "  warnings.warn(\n",
      "/Users/jonas/git/github.com/Arxcis/VE3451-KI-og-maskinl-ring/.venv/lib/python3.13/site-packages/sklearn/linear_model/_stochastic_gradient.py:726: ConvergenceWarning: Maximum number of iteration reached before convergence. Consider increasing max_iter to improve the fit.\n",
      "  warnings.warn(\n",
      "/Users/jonas/git/github.com/Arxcis/VE3451-KI-og-maskinl-ring/.venv/lib/python3.13/site-packages/sklearn/linear_model/_stochastic_gradient.py:726: ConvergenceWarning: Maximum number of iteration reached before convergence. Consider increasing max_iter to improve the fit.\n",
      "  warnings.warn(\n",
      "/Users/jonas/git/github.com/Arxcis/VE3451-KI-og-maskinl-ring/.venv/lib/python3.13/site-packages/sklearn/linear_model/_stochastic_gradient.py:726: ConvergenceWarning: Maximum number of iteration reached before convergence. Consider increasing max_iter to improve the fit.\n",
      "  warnings.warn(\n",
      "/Users/jonas/git/github.com/Arxcis/VE3451-KI-og-maskinl-ring/.venv/lib/python3.13/site-packages/sklearn/linear_model/_stochastic_gradient.py:726: ConvergenceWarning: Maximum number of iteration reached before convergence. Consider increasing max_iter to improve the fit.\n",
      "  warnings.warn(\n",
      "/Users/jonas/git/github.com/Arxcis/VE3451-KI-og-maskinl-ring/.venv/lib/python3.13/site-packages/sklearn/linear_model/_stochastic_gradient.py:726: ConvergenceWarning: Maximum number of iteration reached before convergence. Consider increasing max_iter to improve the fit.\n",
      "  warnings.warn(\n",
      "/Users/jonas/git/github.com/Arxcis/VE3451-KI-og-maskinl-ring/.venv/lib/python3.13/site-packages/sklearn/linear_model/_stochastic_gradient.py:726: ConvergenceWarning: Maximum number of iteration reached before convergence. Consider increasing max_iter to improve the fit.\n",
      "  warnings.warn(\n",
      "/Users/jonas/git/github.com/Arxcis/VE3451-KI-og-maskinl-ring/.venv/lib/python3.13/site-packages/sklearn/linear_model/_stochastic_gradient.py:726: ConvergenceWarning: Maximum number of iteration reached before convergence. Consider increasing max_iter to improve the fit.\n",
      "  warnings.warn(\n",
      "/Users/jonas/git/github.com/Arxcis/VE3451-KI-og-maskinl-ring/.venv/lib/python3.13/site-packages/sklearn/linear_model/_stochastic_gradient.py:726: ConvergenceWarning: Maximum number of iteration reached before convergence. Consider increasing max_iter to improve the fit.\n",
      "  warnings.warn(\n",
      "/Users/jonas/git/github.com/Arxcis/VE3451-KI-og-maskinl-ring/.venv/lib/python3.13/site-packages/sklearn/linear_model/_stochastic_gradient.py:726: ConvergenceWarning: Maximum number of iteration reached before convergence. Consider increasing max_iter to improve the fit.\n",
      "  warnings.warn(\n",
      "/Users/jonas/git/github.com/Arxcis/VE3451-KI-og-maskinl-ring/.venv/lib/python3.13/site-packages/sklearn/linear_model/_stochastic_gradient.py:726: ConvergenceWarning: Maximum number of iteration reached before convergence. Consider increasing max_iter to improve the fit.\n",
      "  warnings.warn(\n",
      "/Users/jonas/git/github.com/Arxcis/VE3451-KI-og-maskinl-ring/.venv/lib/python3.13/site-packages/sklearn/linear_model/_stochastic_gradient.py:726: ConvergenceWarning: Maximum number of iteration reached before convergence. Consider increasing max_iter to improve the fit.\n",
      "  warnings.warn(\n",
      "/Users/jonas/git/github.com/Arxcis/VE3451-KI-og-maskinl-ring/.venv/lib/python3.13/site-packages/sklearn/linear_model/_stochastic_gradient.py:726: ConvergenceWarning: Maximum number of iteration reached before convergence. Consider increasing max_iter to improve the fit.\n",
      "  warnings.warn(\n",
      "/Users/jonas/git/github.com/Arxcis/VE3451-KI-og-maskinl-ring/.venv/lib/python3.13/site-packages/sklearn/linear_model/_stochastic_gradient.py:726: ConvergenceWarning: Maximum number of iteration reached before convergence. Consider increasing max_iter to improve the fit.\n",
      "  warnings.warn(\n",
      "/Users/jonas/git/github.com/Arxcis/VE3451-KI-og-maskinl-ring/.venv/lib/python3.13/site-packages/sklearn/linear_model/_stochastic_gradient.py:726: ConvergenceWarning: Maximum number of iteration reached before convergence. Consider increasing max_iter to improve the fit.\n",
      "  warnings.warn(\n",
      "/Users/jonas/git/github.com/Arxcis/VE3451-KI-og-maskinl-ring/.venv/lib/python3.13/site-packages/sklearn/linear_model/_stochastic_gradient.py:726: ConvergenceWarning: Maximum number of iteration reached before convergence. Consider increasing max_iter to improve the fit.\n",
      "  warnings.warn(\n",
      "/Users/jonas/git/github.com/Arxcis/VE3451-KI-og-maskinl-ring/.venv/lib/python3.13/site-packages/sklearn/linear_model/_stochastic_gradient.py:726: ConvergenceWarning: Maximum number of iteration reached before convergence. Consider increasing max_iter to improve the fit.\n",
      "  warnings.warn(\n",
      "/Users/jonas/git/github.com/Arxcis/VE3451-KI-og-maskinl-ring/.venv/lib/python3.13/site-packages/sklearn/linear_model/_stochastic_gradient.py:726: ConvergenceWarning: Maximum number of iteration reached before convergence. Consider increasing max_iter to improve the fit.\n",
      "  warnings.warn(\n",
      "/Users/jonas/git/github.com/Arxcis/VE3451-KI-og-maskinl-ring/.venv/lib/python3.13/site-packages/sklearn/linear_model/_stochastic_gradient.py:726: ConvergenceWarning: Maximum number of iteration reached before convergence. Consider increasing max_iter to improve the fit.\n",
      "  warnings.warn(\n",
      "/Users/jonas/git/github.com/Arxcis/VE3451-KI-og-maskinl-ring/.venv/lib/python3.13/site-packages/sklearn/linear_model/_stochastic_gradient.py:726: ConvergenceWarning: Maximum number of iteration reached before convergence. Consider increasing max_iter to improve the fit.\n",
      "  warnings.warn(\n",
      "/Users/jonas/git/github.com/Arxcis/VE3451-KI-og-maskinl-ring/.venv/lib/python3.13/site-packages/sklearn/linear_model/_stochastic_gradient.py:726: ConvergenceWarning: Maximum number of iteration reached before convergence. Consider increasing max_iter to improve the fit.\n",
      "  warnings.warn(\n",
      "/Users/jonas/git/github.com/Arxcis/VE3451-KI-og-maskinl-ring/.venv/lib/python3.13/site-packages/sklearn/linear_model/_stochastic_gradient.py:726: ConvergenceWarning: Maximum number of iteration reached before convergence. Consider increasing max_iter to improve the fit.\n",
      "  warnings.warn(\n",
      "/Users/jonas/git/github.com/Arxcis/VE3451-KI-og-maskinl-ring/.venv/lib/python3.13/site-packages/sklearn/linear_model/_stochastic_gradient.py:726: ConvergenceWarning: Maximum number of iteration reached before convergence. Consider increasing max_iter to improve the fit.\n",
      "  warnings.warn(\n",
      "/Users/jonas/git/github.com/Arxcis/VE3451-KI-og-maskinl-ring/.venv/lib/python3.13/site-packages/sklearn/linear_model/_stochastic_gradient.py:726: ConvergenceWarning: Maximum number of iteration reached before convergence. Consider increasing max_iter to improve the fit.\n",
      "  warnings.warn(\n",
      "/Users/jonas/git/github.com/Arxcis/VE3451-KI-og-maskinl-ring/.venv/lib/python3.13/site-packages/sklearn/linear_model/_stochastic_gradient.py:726: ConvergenceWarning: Maximum number of iteration reached before convergence. Consider increasing max_iter to improve the fit.\n",
      "  warnings.warn(\n",
      "/Users/jonas/git/github.com/Arxcis/VE3451-KI-og-maskinl-ring/.venv/lib/python3.13/site-packages/sklearn/linear_model/_stochastic_gradient.py:726: ConvergenceWarning: Maximum number of iteration reached before convergence. Consider increasing max_iter to improve the fit.\n",
      "  warnings.warn(\n",
      "/Users/jonas/git/github.com/Arxcis/VE3451-KI-og-maskinl-ring/.venv/lib/python3.13/site-packages/sklearn/linear_model/_stochastic_gradient.py:726: ConvergenceWarning: Maximum number of iteration reached before convergence. Consider increasing max_iter to improve the fit.\n",
      "  warnings.warn(\n",
      "/Users/jonas/git/github.com/Arxcis/VE3451-KI-og-maskinl-ring/.venv/lib/python3.13/site-packages/sklearn/linear_model/_stochastic_gradient.py:726: ConvergenceWarning: Maximum number of iteration reached before convergence. Consider increasing max_iter to improve the fit.\n",
      "  warnings.warn(\n",
      "/Users/jonas/git/github.com/Arxcis/VE3451-KI-og-maskinl-ring/.venv/lib/python3.13/site-packages/sklearn/linear_model/_stochastic_gradient.py:726: ConvergenceWarning: Maximum number of iteration reached before convergence. Consider increasing max_iter to improve the fit.\n",
      "  warnings.warn(\n",
      "/Users/jonas/git/github.com/Arxcis/VE3451-KI-og-maskinl-ring/.venv/lib/python3.13/site-packages/sklearn/linear_model/_stochastic_gradient.py:726: ConvergenceWarning: Maximum number of iteration reached before convergence. Consider increasing max_iter to improve the fit.\n",
      "  warnings.warn(\n",
      "/Users/jonas/git/github.com/Arxcis/VE3451-KI-og-maskinl-ring/.venv/lib/python3.13/site-packages/sklearn/linear_model/_stochastic_gradient.py:726: ConvergenceWarning: Maximum number of iteration reached before convergence. Consider increasing max_iter to improve the fit.\n",
      "  warnings.warn(\n",
      "/Users/jonas/git/github.com/Arxcis/VE3451-KI-og-maskinl-ring/.venv/lib/python3.13/site-packages/sklearn/linear_model/_stochastic_gradient.py:726: ConvergenceWarning: Maximum number of iteration reached before convergence. Consider increasing max_iter to improve the fit.\n",
      "  warnings.warn(\n",
      "/Users/jonas/git/github.com/Arxcis/VE3451-KI-og-maskinl-ring/.venv/lib/python3.13/site-packages/sklearn/linear_model/_stochastic_gradient.py:726: ConvergenceWarning: Maximum number of iteration reached before convergence. Consider increasing max_iter to improve the fit.\n",
      "  warnings.warn(\n",
      "/Users/jonas/git/github.com/Arxcis/VE3451-KI-og-maskinl-ring/.venv/lib/python3.13/site-packages/sklearn/linear_model/_stochastic_gradient.py:726: ConvergenceWarning: Maximum number of iteration reached before convergence. Consider increasing max_iter to improve the fit.\n",
      "  warnings.warn(\n",
      "/Users/jonas/git/github.com/Arxcis/VE3451-KI-og-maskinl-ring/.venv/lib/python3.13/site-packages/sklearn/linear_model/_stochastic_gradient.py:726: ConvergenceWarning: Maximum number of iteration reached before convergence. Consider increasing max_iter to improve the fit.\n",
      "  warnings.warn(\n",
      "/Users/jonas/git/github.com/Arxcis/VE3451-KI-og-maskinl-ring/.venv/lib/python3.13/site-packages/sklearn/linear_model/_stochastic_gradient.py:726: ConvergenceWarning: Maximum number of iteration reached before convergence. Consider increasing max_iter to improve the fit.\n",
      "  warnings.warn(\n",
      "/Users/jonas/git/github.com/Arxcis/VE3451-KI-og-maskinl-ring/.venv/lib/python3.13/site-packages/sklearn/linear_model/_stochastic_gradient.py:726: ConvergenceWarning: Maximum number of iteration reached before convergence. Consider increasing max_iter to improve the fit.\n",
      "  warnings.warn(\n",
      "/Users/jonas/git/github.com/Arxcis/VE3451-KI-og-maskinl-ring/.venv/lib/python3.13/site-packages/sklearn/linear_model/_stochastic_gradient.py:726: ConvergenceWarning: Maximum number of iteration reached before convergence. Consider increasing max_iter to improve the fit.\n",
      "  warnings.warn(\n",
      "/Users/jonas/git/github.com/Arxcis/VE3451-KI-og-maskinl-ring/.venv/lib/python3.13/site-packages/sklearn/linear_model/_stochastic_gradient.py:726: ConvergenceWarning: Maximum number of iteration reached before convergence. Consider increasing max_iter to improve the fit.\n",
      "  warnings.warn(\n",
      "/Users/jonas/git/github.com/Arxcis/VE3451-KI-og-maskinl-ring/.venv/lib/python3.13/site-packages/sklearn/linear_model/_stochastic_gradient.py:726: ConvergenceWarning: Maximum number of iteration reached before convergence. Consider increasing max_iter to improve the fit.\n",
      "  warnings.warn(\n",
      "/Users/jonas/git/github.com/Arxcis/VE3451-KI-og-maskinl-ring/.venv/lib/python3.13/site-packages/sklearn/linear_model/_stochastic_gradient.py:726: ConvergenceWarning: Maximum number of iteration reached before convergence. Consider increasing max_iter to improve the fit.\n",
      "  warnings.warn(\n",
      "/Users/jonas/git/github.com/Arxcis/VE3451-KI-og-maskinl-ring/.venv/lib/python3.13/site-packages/sklearn/linear_model/_stochastic_gradient.py:726: ConvergenceWarning: Maximum number of iteration reached before convergence. Consider increasing max_iter to improve the fit.\n",
      "  warnings.warn(\n",
      "/Users/jonas/git/github.com/Arxcis/VE3451-KI-og-maskinl-ring/.venv/lib/python3.13/site-packages/sklearn/linear_model/_stochastic_gradient.py:726: ConvergenceWarning: Maximum number of iteration reached before convergence. Consider increasing max_iter to improve the fit.\n",
      "  warnings.warn(\n",
      "/Users/jonas/git/github.com/Arxcis/VE3451-KI-og-maskinl-ring/.venv/lib/python3.13/site-packages/sklearn/linear_model/_stochastic_gradient.py:726: ConvergenceWarning: Maximum number of iteration reached before convergence. Consider increasing max_iter to improve the fit.\n",
      "  warnings.warn(\n",
      "/Users/jonas/git/github.com/Arxcis/VE3451-KI-og-maskinl-ring/.venv/lib/python3.13/site-packages/sklearn/linear_model/_stochastic_gradient.py:726: ConvergenceWarning: Maximum number of iteration reached before convergence. Consider increasing max_iter to improve the fit.\n",
      "  warnings.warn(\n",
      "/Users/jonas/git/github.com/Arxcis/VE3451-KI-og-maskinl-ring/.venv/lib/python3.13/site-packages/sklearn/linear_model/_stochastic_gradient.py:726: ConvergenceWarning: Maximum number of iteration reached before convergence. Consider increasing max_iter to improve the fit.\n",
      "  warnings.warn(\n",
      "/Users/jonas/git/github.com/Arxcis/VE3451-KI-og-maskinl-ring/.venv/lib/python3.13/site-packages/sklearn/linear_model/_stochastic_gradient.py:726: ConvergenceWarning: Maximum number of iteration reached before convergence. Consider increasing max_iter to improve the fit.\n",
      "  warnings.warn(\n",
      "/Users/jonas/git/github.com/Arxcis/VE3451-KI-og-maskinl-ring/.venv/lib/python3.13/site-packages/sklearn/linear_model/_stochastic_gradient.py:726: ConvergenceWarning: Maximum number of iteration reached before convergence. Consider increasing max_iter to improve the fit.\n",
      "  warnings.warn(\n",
      "/Users/jonas/git/github.com/Arxcis/VE3451-KI-og-maskinl-ring/.venv/lib/python3.13/site-packages/sklearn/linear_model/_stochastic_gradient.py:726: ConvergenceWarning: Maximum number of iteration reached before convergence. Consider increasing max_iter to improve the fit.\n",
      "  warnings.warn(\n",
      "/Users/jonas/git/github.com/Arxcis/VE3451-KI-og-maskinl-ring/.venv/lib/python3.13/site-packages/sklearn/linear_model/_stochastic_gradient.py:726: ConvergenceWarning: Maximum number of iteration reached before convergence. Consider increasing max_iter to improve the fit.\n",
      "  warnings.warn(\n",
      "/Users/jonas/git/github.com/Arxcis/VE3451-KI-og-maskinl-ring/.venv/lib/python3.13/site-packages/sklearn/linear_model/_stochastic_gradient.py:726: ConvergenceWarning: Maximum number of iteration reached before convergence. Consider increasing max_iter to improve the fit.\n",
      "  warnings.warn(\n",
      "/Users/jonas/git/github.com/Arxcis/VE3451-KI-og-maskinl-ring/.venv/lib/python3.13/site-packages/sklearn/linear_model/_stochastic_gradient.py:726: ConvergenceWarning: Maximum number of iteration reached before convergence. Consider increasing max_iter to improve the fit.\n",
      "  warnings.warn(\n",
      "/Users/jonas/git/github.com/Arxcis/VE3451-KI-og-maskinl-ring/.venv/lib/python3.13/site-packages/sklearn/linear_model/_stochastic_gradient.py:726: ConvergenceWarning: Maximum number of iteration reached before convergence. Consider increasing max_iter to improve the fit.\n",
      "  warnings.warn(\n",
      "/Users/jonas/git/github.com/Arxcis/VE3451-KI-og-maskinl-ring/.venv/lib/python3.13/site-packages/sklearn/linear_model/_stochastic_gradient.py:726: ConvergenceWarning: Maximum number of iteration reached before convergence. Consider increasing max_iter to improve the fit.\n",
      "  warnings.warn(\n",
      "/Users/jonas/git/github.com/Arxcis/VE3451-KI-og-maskinl-ring/.venv/lib/python3.13/site-packages/sklearn/linear_model/_stochastic_gradient.py:726: ConvergenceWarning: Maximum number of iteration reached before convergence. Consider increasing max_iter to improve the fit.\n",
      "  warnings.warn(\n",
      "/Users/jonas/git/github.com/Arxcis/VE3451-KI-og-maskinl-ring/.venv/lib/python3.13/site-packages/sklearn/linear_model/_stochastic_gradient.py:726: ConvergenceWarning: Maximum number of iteration reached before convergence. Consider increasing max_iter to improve the fit.\n",
      "  warnings.warn(\n",
      "/Users/jonas/git/github.com/Arxcis/VE3451-KI-og-maskinl-ring/.venv/lib/python3.13/site-packages/sklearn/linear_model/_stochastic_gradient.py:726: ConvergenceWarning: Maximum number of iteration reached before convergence. Consider increasing max_iter to improve the fit.\n",
      "  warnings.warn(\n",
      "/Users/jonas/git/github.com/Arxcis/VE3451-KI-og-maskinl-ring/.venv/lib/python3.13/site-packages/sklearn/linear_model/_stochastic_gradient.py:726: ConvergenceWarning: Maximum number of iteration reached before convergence. Consider increasing max_iter to improve the fit.\n",
      "  warnings.warn(\n",
      "/Users/jonas/git/github.com/Arxcis/VE3451-KI-og-maskinl-ring/.venv/lib/python3.13/site-packages/sklearn/linear_model/_stochastic_gradient.py:726: ConvergenceWarning: Maximum number of iteration reached before convergence. Consider increasing max_iter to improve the fit.\n",
      "  warnings.warn(\n",
      "/Users/jonas/git/github.com/Arxcis/VE3451-KI-og-maskinl-ring/.venv/lib/python3.13/site-packages/sklearn/linear_model/_stochastic_gradient.py:726: ConvergenceWarning: Maximum number of iteration reached before convergence. Consider increasing max_iter to improve the fit.\n",
      "  warnings.warn(\n",
      "/Users/jonas/git/github.com/Arxcis/VE3451-KI-og-maskinl-ring/.venv/lib/python3.13/site-packages/sklearn/linear_model/_stochastic_gradient.py:726: ConvergenceWarning: Maximum number of iteration reached before convergence. Consider increasing max_iter to improve the fit.\n",
      "  warnings.warn(\n",
      "/Users/jonas/git/github.com/Arxcis/VE3451-KI-og-maskinl-ring/.venv/lib/python3.13/site-packages/sklearn/linear_model/_stochastic_gradient.py:726: ConvergenceWarning: Maximum number of iteration reached before convergence. Consider increasing max_iter to improve the fit.\n",
      "  warnings.warn(\n",
      "/Users/jonas/git/github.com/Arxcis/VE3451-KI-og-maskinl-ring/.venv/lib/python3.13/site-packages/sklearn/linear_model/_stochastic_gradient.py:726: ConvergenceWarning: Maximum number of iteration reached before convergence. Consider increasing max_iter to improve the fit.\n",
      "  warnings.warn(\n",
      "/Users/jonas/git/github.com/Arxcis/VE3451-KI-og-maskinl-ring/.venv/lib/python3.13/site-packages/sklearn/linear_model/_stochastic_gradient.py:726: ConvergenceWarning: Maximum number of iteration reached before convergence. Consider increasing max_iter to improve the fit.\n",
      "  warnings.warn(\n"
     ]
    }
   ],
   "source": [
    "for i in range(1, 11):\n",
    "    print(f\"--- max_iter={i}: -------------------------------------------------------\")\n",
    "    for j in range(1, 11):\n",
    "        perceptron = Perceptron(max_iter=i, eta0=0.1*j, random_state=42)\n",
    "        perceptron.fit(X_or, y_or)\n",
    "        print(f\"perceptron.predict(X_or) with max_iter={i}, eta0={0.1*j:.1f}: \", perceptron.predict(X_or))"
   ]
  },
  {
   "cell_type": "markdown",
   "id": "6a35837c",
   "metadata": {},
   "source": [
    "\n",
    "## Task 4 Linear Regression (Single Variable)\n",
    "\n",
    "We fit a **Linear Regression** model to a 1D dataset.\n",
    "\n",
    "**Steps:**\n",
    "1. Generate synthetic data: `y = 2.5 * x + noise`.\n",
    "2. Fit `LinearRegression()`.\n",
    "3. Report **MAE**, **MSE**, **R²**.\n",
    "4. Plot data points and the regression line.\n",
    "5. Answer questions "
   ]
  },
  {
   "cell_type": "code",
   "execution_count": null,
   "id": "8ba8a14e",
   "metadata": {},
   "outputs": [],
   "source": [
    "# --- Task 4.1: Generate synthetic single variable data: y = 2.5 * x + noise, noise ~ N(0,1), X in [0,10], 40 samples\n",
    "#     (Hint: use linspace to generate x values; use np.random.normal to generate noise)\n",
    "\n",
    "\n",
    "# --- Task 4.2: Fit model \n",
    "#     (Hint: use LinearRegression() from sklearn.linear_model; then fit())\n",
    "\n",
    "\n",
    "# --- Task 4.3: Metrics (MAE, MSE, R²)\n",
    "\n",
    "\n",
    "# --- Task 4.4: Plot data points and the regression line\n",
    "\n",
    "\n",
    "# --- Task 4.5: Questions ---\n",
    "# Q1: Change the slope in data generation to 3.0 and re-run. What happens to R^2? \n",
    "# # -> (your answer):\n",
    "# Q2: Try adding larger noise (e.g., std=3.0). How do MAE/MSE change?\n",
    "#  -> (your answer):\n"
   ]
  },
  {
   "cell_type": "markdown",
   "id": "5fc5461e",
   "metadata": {},
   "source": [
    "\n",
    "## Task 5 Using kNN for outlier detection\n",
    "\n",
    "We use Iris data (only two features: sepal length & sepal width).  \n",
    "We mark points with **large average distance** to their **k** nearest neighbors.\n",
    "\n",
    "**Steps:**\n",
    "1. Load Iris. Keep only columns: sepal length, sepal width.\n",
    "2. Fit `NearestNeighbors(n_neighbors=k)`.\n",
    "3. Compute the mean distance for each point to its neighbors.\n",
    "4. Choose a threshold (e.g., top 10% largest distances) → mark outliers.\n",
    "5. Plot scatter; mark outliers differently.\n",
    "\n",
    "Start with `k = 5`.\n"
   ]
  },
  {
   "cell_type": "code",
   "execution_count": null,
   "id": "41e641ba",
   "metadata": {},
   "outputs": [],
   "source": [
    "# --- Task 5.1: Load Iris data (sepal length and width)\n",
    "#     (Hint: use datasets.load_iris() from sklearn; then use data[:, :2] to get first two features)\n",
    "\n",
    "\n",
    "# --- Task 5.2: Fit NearestNeighbors\n",
    "#     (Hint: use NearestNeighbors(n_neighbors=k) from sklearn.neighbors)\n",
    "\n",
    "\n",
    "# --- Task 5.3: Mean distance to neighbors\n",
    "#     (Hint: use nn.kneighbors(X_iris) to get distances and indices of neighbors, then compute mean distance)\n",
    "\n",
    "\n",
    "# --- Task 5.4: Threshold= top 10%, and find outliers\n",
    "#     (Hint: use np.percentile to get the threshold)\n",
    "\n",
    "\n",
    "# --- Task 5.5: Plot, mark outliers differently, e.g., with 'x'/'*'/'^' marker, different color, etc.\n",
    "\n",
    "\n",
    "# --- Questions ---\n",
    "# 1: Change k to 2 and 10. How does the outlier set change?\n",
    "#  -> (your answer):\n",
    "# 2: Try a stricter threshold (e.g., top 5%). What happens?\n",
    "#  -> (your answer):\n"
   ]
  },
  {
   "cell_type": "markdown",
   "id": "be1f85a4",
   "metadata": {},
   "source": [
    "\n",
    "## (Final task) Task 6 End-to-End Classification Pipeline\n",
    "\n",
    "We build a complete supervised learning pipeline using **Digits** data:\n",
    "- **Aim:** Classify hand-written digits (\"0\"–\"9\").\n",
    "- **Model:** `MLPClassifier`, a simple neural network.\n",
    "- **Outputs:** Accuracy and **confusion matrix**.\n",
    "\n",
    "**Steps:**\n",
    "1. Load data: `datasets.load_digits()`.\n",
    "2. Train/validation split: 80% / 20%.\n",
    "3. Scale features with `StandardScaler()`.\n",
    "4. Train `MLPClassifier(hidden_layer_sizes=(50,), max_iter=300, random_state=0)`.\n",
    "5. Evaluate on validation set. Print accuracy.\n",
    "6. Show the **confusion matrix** with `ConfusionMatrixDisplay`.\n",
    "7. Write 3–5 lines: What mistakes are most common? Why?\n",
    "\n",
    "**Tips:**\n",
    "- If training warns about convergence, **increase** `max_iter`.\n",
    "- Use a **small network** to keep runtime short.\n"
   ]
  },
  {
   "cell_type": "code",
   "execution_count": null,
   "id": "10c4447d",
   "metadata": {},
   "outputs": [],
   "source": [
    "\n",
    "# --- Task 6.1: Load digits\n",
    "#     (Hint: use datasets.load_digits() from sklearn)\n",
    "\n",
    "\n",
    "# --- Task 6.2: Split data into train and validation \n",
    "#     (Hint: use train_test_split from sklearn.model_selection)\n",
    "\n",
    "\n",
    "# --- Task 6.3: Scaling (NOTE: fit on train only!!)\n",
    "\n",
    "\n",
    "\n",
    "# --- Task 6.4: Train a MLPClassifier\n",
    "#     (Hint: use MLPClassifier from sklearn.neural_network)\n",
    "\n",
    "\n",
    "# --- Task 6.5: Evaluate.  Print accuracy.\n",
    "#    (Hint: use mlp.score(), where mlp is your trained model)\n",
    "\n",
    "\n",
    "# --- Task 6.6: Confusion matrix\n",
    "#    (Hint: use confusion_matrix and ConfusionMatrixDisplay from sklearn.metrics)\n",
    "\n",
    "\n",
    "# --- Task 6.7: Questions ---\n",
    "# 1: In 3–5 lines: describe the main error types you see and a possible reason (e.g., similar shapes).\n",
    "#  -> (your answer):\n"
   ]
  },
  {
   "cell_type": "markdown",
   "id": "3e10a27f",
   "metadata": {},
   "source": [
    "## (Optional) Any refection or additional notes you want to add here?"
   ]
  },
  {
   "cell_type": "code",
   "execution_count": null,
   "id": "978f3f6a",
   "metadata": {},
   "outputs": [],
   "source": []
  }
 ],
 "metadata": {
  "kernelspec": {
   "display_name": ".venv",
   "language": "python",
   "name": "python3"
  },
  "language_info": {
   "codemirror_mode": {
    "name": "ipython",
    "version": 3
   },
   "file_extension": ".py",
   "mimetype": "text/x-python",
   "name": "python",
   "nbconvert_exporter": "python",
   "pygments_lexer": "ipython3",
   "version": "3.13.5"
  }
 },
 "nbformat": 4,
 "nbformat_minor": 5
}
